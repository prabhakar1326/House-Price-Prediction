{
 "cells": [
  {
   "cell_type": "markdown",
   "id": "0e6f23c2-23b3-4850-80c3-bf76b018dfc8",
   "metadata": {},
   "source": [
    "# House price prediction"
   ]
  },
  {
   "cell_type": "code",
   "execution_count": 1,
   "id": "a3ac948d-e337-47bd-9d53-d70c2ca9a389",
   "metadata": {
    "tags": []
   },
   "outputs": [],
   "source": [
    "import numpy as np\n",
    "import pandas as pd\n",
    "import matplotlib.pyplot as plt\n",
    "import seaborn as sns\n",
    "import calendar\n",
    "from pandas.api.types import CategoricalDtype\n",
    "from sklearn.preprocessing import StandardScaler"
   ]
  },
  {
   "cell_type": "markdown",
   "id": "8d6e4fb7-f83d-4be4-9f0d-89e3933ad6a9",
   "metadata": {
    "tags": []
   },
   "source": [
    "## load dataset"
   ]
  },
  {
   "cell_type": "code",
   "execution_count": 2,
   "id": "e652e2e2-3102-4de4-8308-82582ea72ea0",
   "metadata": {},
   "outputs": [],
   "source": [
    "train_data_path = r\"C:\\Users\\DELL\\Desktop\\house_price_prediction\\data\\train.csv\"\n",
    "test_data_path = r\"C:\\Users\\DELL\\Desktop\\house_price_prediction\\data\\test.csv\"\n",
    "df_train = pd.read_csv(train_data_path)\n",
    "df_test = pd.read_csv(test_data_path)"
   ]
  },
  {
   "cell_type": "code",
   "execution_count": 3,
   "id": "be69f860-1d62-4d4a-a5fb-9ce442f1ac9a",
   "metadata": {
    "tags": []
   },
   "outputs": [
    {
     "name": "stdout",
     "output_type": "stream",
     "text": [
      "shape of df_train (1460, 81)\n",
      "shape of df_test (1459, 80)\n"
     ]
    }
   ],
   "source": [
    "print(\"shape of df_train\",df_train.shape)\n",
    "print(\"shape of df_test\",df_test.shape)"
   ]
  },
  {
   "cell_type": "code",
   "execution_count": 4,
   "id": "e04da09d-7abc-43dc-812d-1e45731c04bb",
   "metadata": {
    "tags": []
   },
   "outputs": [
    {
     "data": {
      "text/html": [
       "<div>\n",
       "<style scoped>\n",
       "    .dataframe tbody tr th:only-of-type {\n",
       "        vertical-align: middle;\n",
       "    }\n",
       "\n",
       "    .dataframe tbody tr th {\n",
       "        vertical-align: top;\n",
       "    }\n",
       "\n",
       "    .dataframe thead th {\n",
       "        text-align: right;\n",
       "    }\n",
       "</style>\n",
       "<table border=\"1\" class=\"dataframe\">\n",
       "  <thead>\n",
       "    <tr style=\"text-align: right;\">\n",
       "      <th></th>\n",
       "      <th>Id</th>\n",
       "      <th>MSSubClass</th>\n",
       "      <th>MSZoning</th>\n",
       "      <th>LotFrontage</th>\n",
       "      <th>LotArea</th>\n",
       "      <th>Street</th>\n",
       "      <th>Alley</th>\n",
       "      <th>LotShape</th>\n",
       "      <th>LandContour</th>\n",
       "      <th>Utilities</th>\n",
       "      <th>...</th>\n",
       "      <th>PoolArea</th>\n",
       "      <th>PoolQC</th>\n",
       "      <th>Fence</th>\n",
       "      <th>MiscFeature</th>\n",
       "      <th>MiscVal</th>\n",
       "      <th>MoSold</th>\n",
       "      <th>YrSold</th>\n",
       "      <th>SaleType</th>\n",
       "      <th>SaleCondition</th>\n",
       "      <th>SalePrice</th>\n",
       "    </tr>\n",
       "  </thead>\n",
       "  <tbody>\n",
       "    <tr>\n",
       "      <th>0</th>\n",
       "      <td>1</td>\n",
       "      <td>60</td>\n",
       "      <td>RL</td>\n",
       "      <td>65.0</td>\n",
       "      <td>8450</td>\n",
       "      <td>Pave</td>\n",
       "      <td>NaN</td>\n",
       "      <td>Reg</td>\n",
       "      <td>Lvl</td>\n",
       "      <td>AllPub</td>\n",
       "      <td>...</td>\n",
       "      <td>0</td>\n",
       "      <td>NaN</td>\n",
       "      <td>NaN</td>\n",
       "      <td>NaN</td>\n",
       "      <td>0</td>\n",
       "      <td>2</td>\n",
       "      <td>2008</td>\n",
       "      <td>WD</td>\n",
       "      <td>Normal</td>\n",
       "      <td>208500</td>\n",
       "    </tr>\n",
       "    <tr>\n",
       "      <th>1</th>\n",
       "      <td>2</td>\n",
       "      <td>20</td>\n",
       "      <td>RL</td>\n",
       "      <td>80.0</td>\n",
       "      <td>9600</td>\n",
       "      <td>Pave</td>\n",
       "      <td>NaN</td>\n",
       "      <td>Reg</td>\n",
       "      <td>Lvl</td>\n",
       "      <td>AllPub</td>\n",
       "      <td>...</td>\n",
       "      <td>0</td>\n",
       "      <td>NaN</td>\n",
       "      <td>NaN</td>\n",
       "      <td>NaN</td>\n",
       "      <td>0</td>\n",
       "      <td>5</td>\n",
       "      <td>2007</td>\n",
       "      <td>WD</td>\n",
       "      <td>Normal</td>\n",
       "      <td>181500</td>\n",
       "    </tr>\n",
       "    <tr>\n",
       "      <th>2</th>\n",
       "      <td>3</td>\n",
       "      <td>60</td>\n",
       "      <td>RL</td>\n",
       "      <td>68.0</td>\n",
       "      <td>11250</td>\n",
       "      <td>Pave</td>\n",
       "      <td>NaN</td>\n",
       "      <td>IR1</td>\n",
       "      <td>Lvl</td>\n",
       "      <td>AllPub</td>\n",
       "      <td>...</td>\n",
       "      <td>0</td>\n",
       "      <td>NaN</td>\n",
       "      <td>NaN</td>\n",
       "      <td>NaN</td>\n",
       "      <td>0</td>\n",
       "      <td>9</td>\n",
       "      <td>2008</td>\n",
       "      <td>WD</td>\n",
       "      <td>Normal</td>\n",
       "      <td>223500</td>\n",
       "    </tr>\n",
       "    <tr>\n",
       "      <th>3</th>\n",
       "      <td>4</td>\n",
       "      <td>70</td>\n",
       "      <td>RL</td>\n",
       "      <td>60.0</td>\n",
       "      <td>9550</td>\n",
       "      <td>Pave</td>\n",
       "      <td>NaN</td>\n",
       "      <td>IR1</td>\n",
       "      <td>Lvl</td>\n",
       "      <td>AllPub</td>\n",
       "      <td>...</td>\n",
       "      <td>0</td>\n",
       "      <td>NaN</td>\n",
       "      <td>NaN</td>\n",
       "      <td>NaN</td>\n",
       "      <td>0</td>\n",
       "      <td>2</td>\n",
       "      <td>2006</td>\n",
       "      <td>WD</td>\n",
       "      <td>Abnorml</td>\n",
       "      <td>140000</td>\n",
       "    </tr>\n",
       "    <tr>\n",
       "      <th>4</th>\n",
       "      <td>5</td>\n",
       "      <td>60</td>\n",
       "      <td>RL</td>\n",
       "      <td>84.0</td>\n",
       "      <td>14260</td>\n",
       "      <td>Pave</td>\n",
       "      <td>NaN</td>\n",
       "      <td>IR1</td>\n",
       "      <td>Lvl</td>\n",
       "      <td>AllPub</td>\n",
       "      <td>...</td>\n",
       "      <td>0</td>\n",
       "      <td>NaN</td>\n",
       "      <td>NaN</td>\n",
       "      <td>NaN</td>\n",
       "      <td>0</td>\n",
       "      <td>12</td>\n",
       "      <td>2008</td>\n",
       "      <td>WD</td>\n",
       "      <td>Normal</td>\n",
       "      <td>250000</td>\n",
       "    </tr>\n",
       "  </tbody>\n",
       "</table>\n",
       "<p>5 rows × 81 columns</p>\n",
       "</div>"
      ],
      "text/plain": [
       "   Id  MSSubClass MSZoning  LotFrontage  LotArea Street Alley LotShape  \\\n",
       "0   1          60       RL         65.0     8450   Pave   NaN      Reg   \n",
       "1   2          20       RL         80.0     9600   Pave   NaN      Reg   \n",
       "2   3          60       RL         68.0    11250   Pave   NaN      IR1   \n",
       "3   4          70       RL         60.0     9550   Pave   NaN      IR1   \n",
       "4   5          60       RL         84.0    14260   Pave   NaN      IR1   \n",
       "\n",
       "  LandContour Utilities  ... PoolArea PoolQC Fence MiscFeature MiscVal MoSold  \\\n",
       "0         Lvl    AllPub  ...        0    NaN   NaN         NaN       0      2   \n",
       "1         Lvl    AllPub  ...        0    NaN   NaN         NaN       0      5   \n",
       "2         Lvl    AllPub  ...        0    NaN   NaN         NaN       0      9   \n",
       "3         Lvl    AllPub  ...        0    NaN   NaN         NaN       0      2   \n",
       "4         Lvl    AllPub  ...        0    NaN   NaN         NaN       0     12   \n",
       "\n",
       "  YrSold  SaleType  SaleCondition  SalePrice  \n",
       "0   2008        WD         Normal     208500  \n",
       "1   2007        WD         Normal     181500  \n",
       "2   2008        WD         Normal     223500  \n",
       "3   2006        WD        Abnorml     140000  \n",
       "4   2008        WD         Normal     250000  \n",
       "\n",
       "[5 rows x 81 columns]"
      ]
     },
     "execution_count": 4,
     "metadata": {},
     "output_type": "execute_result"
    }
   ],
   "source": [
    "df_train.head()"
   ]
  },
  {
   "cell_type": "code",
   "execution_count": 5,
   "id": "964de7ea-745a-444a-bbe5-430300c2d495",
   "metadata": {
    "tags": []
   },
   "outputs": [
    {
     "data": {
      "text/html": [
       "<div>\n",
       "<style scoped>\n",
       "    .dataframe tbody tr th:only-of-type {\n",
       "        vertical-align: middle;\n",
       "    }\n",
       "\n",
       "    .dataframe tbody tr th {\n",
       "        vertical-align: top;\n",
       "    }\n",
       "\n",
       "    .dataframe thead th {\n",
       "        text-align: right;\n",
       "    }\n",
       "</style>\n",
       "<table border=\"1\" class=\"dataframe\">\n",
       "  <thead>\n",
       "    <tr style=\"text-align: right;\">\n",
       "      <th></th>\n",
       "      <th>Id</th>\n",
       "      <th>MSSubClass</th>\n",
       "      <th>MSZoning</th>\n",
       "      <th>LotFrontage</th>\n",
       "      <th>LotArea</th>\n",
       "      <th>Street</th>\n",
       "      <th>Alley</th>\n",
       "      <th>LotShape</th>\n",
       "      <th>LandContour</th>\n",
       "      <th>Utilities</th>\n",
       "      <th>...</th>\n",
       "      <th>ScreenPorch</th>\n",
       "      <th>PoolArea</th>\n",
       "      <th>PoolQC</th>\n",
       "      <th>Fence</th>\n",
       "      <th>MiscFeature</th>\n",
       "      <th>MiscVal</th>\n",
       "      <th>MoSold</th>\n",
       "      <th>YrSold</th>\n",
       "      <th>SaleType</th>\n",
       "      <th>SaleCondition</th>\n",
       "    </tr>\n",
       "  </thead>\n",
       "  <tbody>\n",
       "    <tr>\n",
       "      <th>0</th>\n",
       "      <td>1461</td>\n",
       "      <td>20</td>\n",
       "      <td>RH</td>\n",
       "      <td>80.0</td>\n",
       "      <td>11622</td>\n",
       "      <td>Pave</td>\n",
       "      <td>NaN</td>\n",
       "      <td>Reg</td>\n",
       "      <td>Lvl</td>\n",
       "      <td>AllPub</td>\n",
       "      <td>...</td>\n",
       "      <td>120</td>\n",
       "      <td>0</td>\n",
       "      <td>NaN</td>\n",
       "      <td>MnPrv</td>\n",
       "      <td>NaN</td>\n",
       "      <td>0</td>\n",
       "      <td>6</td>\n",
       "      <td>2010</td>\n",
       "      <td>WD</td>\n",
       "      <td>Normal</td>\n",
       "    </tr>\n",
       "    <tr>\n",
       "      <th>1</th>\n",
       "      <td>1462</td>\n",
       "      <td>20</td>\n",
       "      <td>RL</td>\n",
       "      <td>81.0</td>\n",
       "      <td>14267</td>\n",
       "      <td>Pave</td>\n",
       "      <td>NaN</td>\n",
       "      <td>IR1</td>\n",
       "      <td>Lvl</td>\n",
       "      <td>AllPub</td>\n",
       "      <td>...</td>\n",
       "      <td>0</td>\n",
       "      <td>0</td>\n",
       "      <td>NaN</td>\n",
       "      <td>NaN</td>\n",
       "      <td>Gar2</td>\n",
       "      <td>12500</td>\n",
       "      <td>6</td>\n",
       "      <td>2010</td>\n",
       "      <td>WD</td>\n",
       "      <td>Normal</td>\n",
       "    </tr>\n",
       "    <tr>\n",
       "      <th>2</th>\n",
       "      <td>1463</td>\n",
       "      <td>60</td>\n",
       "      <td>RL</td>\n",
       "      <td>74.0</td>\n",
       "      <td>13830</td>\n",
       "      <td>Pave</td>\n",
       "      <td>NaN</td>\n",
       "      <td>IR1</td>\n",
       "      <td>Lvl</td>\n",
       "      <td>AllPub</td>\n",
       "      <td>...</td>\n",
       "      <td>0</td>\n",
       "      <td>0</td>\n",
       "      <td>NaN</td>\n",
       "      <td>MnPrv</td>\n",
       "      <td>NaN</td>\n",
       "      <td>0</td>\n",
       "      <td>3</td>\n",
       "      <td>2010</td>\n",
       "      <td>WD</td>\n",
       "      <td>Normal</td>\n",
       "    </tr>\n",
       "    <tr>\n",
       "      <th>3</th>\n",
       "      <td>1464</td>\n",
       "      <td>60</td>\n",
       "      <td>RL</td>\n",
       "      <td>78.0</td>\n",
       "      <td>9978</td>\n",
       "      <td>Pave</td>\n",
       "      <td>NaN</td>\n",
       "      <td>IR1</td>\n",
       "      <td>Lvl</td>\n",
       "      <td>AllPub</td>\n",
       "      <td>...</td>\n",
       "      <td>0</td>\n",
       "      <td>0</td>\n",
       "      <td>NaN</td>\n",
       "      <td>NaN</td>\n",
       "      <td>NaN</td>\n",
       "      <td>0</td>\n",
       "      <td>6</td>\n",
       "      <td>2010</td>\n",
       "      <td>WD</td>\n",
       "      <td>Normal</td>\n",
       "    </tr>\n",
       "    <tr>\n",
       "      <th>4</th>\n",
       "      <td>1465</td>\n",
       "      <td>120</td>\n",
       "      <td>RL</td>\n",
       "      <td>43.0</td>\n",
       "      <td>5005</td>\n",
       "      <td>Pave</td>\n",
       "      <td>NaN</td>\n",
       "      <td>IR1</td>\n",
       "      <td>HLS</td>\n",
       "      <td>AllPub</td>\n",
       "      <td>...</td>\n",
       "      <td>144</td>\n",
       "      <td>0</td>\n",
       "      <td>NaN</td>\n",
       "      <td>NaN</td>\n",
       "      <td>NaN</td>\n",
       "      <td>0</td>\n",
       "      <td>1</td>\n",
       "      <td>2010</td>\n",
       "      <td>WD</td>\n",
       "      <td>Normal</td>\n",
       "    </tr>\n",
       "  </tbody>\n",
       "</table>\n",
       "<p>5 rows × 80 columns</p>\n",
       "</div>"
      ],
      "text/plain": [
       "     Id  MSSubClass MSZoning  LotFrontage  LotArea Street Alley LotShape  \\\n",
       "0  1461          20       RH         80.0    11622   Pave   NaN      Reg   \n",
       "1  1462          20       RL         81.0    14267   Pave   NaN      IR1   \n",
       "2  1463          60       RL         74.0    13830   Pave   NaN      IR1   \n",
       "3  1464          60       RL         78.0     9978   Pave   NaN      IR1   \n",
       "4  1465         120       RL         43.0     5005   Pave   NaN      IR1   \n",
       "\n",
       "  LandContour Utilities  ... ScreenPorch PoolArea PoolQC  Fence MiscFeature  \\\n",
       "0         Lvl    AllPub  ...         120        0    NaN  MnPrv         NaN   \n",
       "1         Lvl    AllPub  ...           0        0    NaN    NaN        Gar2   \n",
       "2         Lvl    AllPub  ...           0        0    NaN  MnPrv         NaN   \n",
       "3         Lvl    AllPub  ...           0        0    NaN    NaN         NaN   \n",
       "4         HLS    AllPub  ...         144        0    NaN    NaN         NaN   \n",
       "\n",
       "  MiscVal MoSold  YrSold  SaleType  SaleCondition  \n",
       "0       0      6    2010        WD         Normal  \n",
       "1   12500      6    2010        WD         Normal  \n",
       "2       0      3    2010        WD         Normal  \n",
       "3       0      6    2010        WD         Normal  \n",
       "4       0      1    2010        WD         Normal  \n",
       "\n",
       "[5 rows x 80 columns]"
      ]
     },
     "execution_count": 5,
     "metadata": {},
     "output_type": "execute_result"
    }
   ],
   "source": [
    "df_test.head()"
   ]
  },
  {
   "cell_type": "markdown",
   "id": "014a31f7-25b4-44c3-a724-00edd05402ba",
   "metadata": {},
   "source": [
    "# data integration"
   ]
  },
  {
   "cell_type": "code",
   "execution_count": 6,
   "id": "1aa044bf-66f0-4490-a928-a975747318f1",
   "metadata": {
    "tags": []
   },
   "outputs": [
    {
     "name": "stdout",
     "output_type": "stream",
     "text": [
      "shape of integrated data : (2919, 81)\n"
     ]
    }
   ],
   "source": [
    "df = pd.concat([df_train, df_test])\n",
    "\n",
    "print(\"shape of integrated data :\",df.shape)"
   ]
  },
  {
   "cell_type": "code",
   "execution_count": 7,
   "id": "506b2452-1491-4c88-89b9-680added2c60",
   "metadata": {
    "tags": []
   },
   "outputs": [
    {
     "data": {
      "text/html": [
       "<div>\n",
       "<style scoped>\n",
       "    .dataframe tbody tr th:only-of-type {\n",
       "        vertical-align: middle;\n",
       "    }\n",
       "\n",
       "    .dataframe tbody tr th {\n",
       "        vertical-align: top;\n",
       "    }\n",
       "\n",
       "    .dataframe thead th {\n",
       "        text-align: right;\n",
       "    }\n",
       "</style>\n",
       "<table border=\"1\" class=\"dataframe\">\n",
       "  <thead>\n",
       "    <tr style=\"text-align: right;\">\n",
       "      <th></th>\n",
       "      <th>Id</th>\n",
       "      <th>MSSubClass</th>\n",
       "      <th>MSZoning</th>\n",
       "      <th>LotFrontage</th>\n",
       "      <th>LotArea</th>\n",
       "      <th>Street</th>\n",
       "      <th>Alley</th>\n",
       "      <th>LotShape</th>\n",
       "      <th>LandContour</th>\n",
       "      <th>Utilities</th>\n",
       "      <th>...</th>\n",
       "      <th>PoolArea</th>\n",
       "      <th>PoolQC</th>\n",
       "      <th>Fence</th>\n",
       "      <th>MiscFeature</th>\n",
       "      <th>MiscVal</th>\n",
       "      <th>MoSold</th>\n",
       "      <th>YrSold</th>\n",
       "      <th>SaleType</th>\n",
       "      <th>SaleCondition</th>\n",
       "      <th>SalePrice</th>\n",
       "    </tr>\n",
       "  </thead>\n",
       "  <tbody>\n",
       "    <tr>\n",
       "      <th>0</th>\n",
       "      <td>1</td>\n",
       "      <td>60</td>\n",
       "      <td>RL</td>\n",
       "      <td>65.0</td>\n",
       "      <td>8450</td>\n",
       "      <td>Pave</td>\n",
       "      <td>NaN</td>\n",
       "      <td>Reg</td>\n",
       "      <td>Lvl</td>\n",
       "      <td>AllPub</td>\n",
       "      <td>...</td>\n",
       "      <td>0</td>\n",
       "      <td>NaN</td>\n",
       "      <td>NaN</td>\n",
       "      <td>NaN</td>\n",
       "      <td>0</td>\n",
       "      <td>2</td>\n",
       "      <td>2008</td>\n",
       "      <td>WD</td>\n",
       "      <td>Normal</td>\n",
       "      <td>208500.0</td>\n",
       "    </tr>\n",
       "    <tr>\n",
       "      <th>1</th>\n",
       "      <td>2</td>\n",
       "      <td>20</td>\n",
       "      <td>RL</td>\n",
       "      <td>80.0</td>\n",
       "      <td>9600</td>\n",
       "      <td>Pave</td>\n",
       "      <td>NaN</td>\n",
       "      <td>Reg</td>\n",
       "      <td>Lvl</td>\n",
       "      <td>AllPub</td>\n",
       "      <td>...</td>\n",
       "      <td>0</td>\n",
       "      <td>NaN</td>\n",
       "      <td>NaN</td>\n",
       "      <td>NaN</td>\n",
       "      <td>0</td>\n",
       "      <td>5</td>\n",
       "      <td>2007</td>\n",
       "      <td>WD</td>\n",
       "      <td>Normal</td>\n",
       "      <td>181500.0</td>\n",
       "    </tr>\n",
       "    <tr>\n",
       "      <th>2</th>\n",
       "      <td>3</td>\n",
       "      <td>60</td>\n",
       "      <td>RL</td>\n",
       "      <td>68.0</td>\n",
       "      <td>11250</td>\n",
       "      <td>Pave</td>\n",
       "      <td>NaN</td>\n",
       "      <td>IR1</td>\n",
       "      <td>Lvl</td>\n",
       "      <td>AllPub</td>\n",
       "      <td>...</td>\n",
       "      <td>0</td>\n",
       "      <td>NaN</td>\n",
       "      <td>NaN</td>\n",
       "      <td>NaN</td>\n",
       "      <td>0</td>\n",
       "      <td>9</td>\n",
       "      <td>2008</td>\n",
       "      <td>WD</td>\n",
       "      <td>Normal</td>\n",
       "      <td>223500.0</td>\n",
       "    </tr>\n",
       "    <tr>\n",
       "      <th>3</th>\n",
       "      <td>4</td>\n",
       "      <td>70</td>\n",
       "      <td>RL</td>\n",
       "      <td>60.0</td>\n",
       "      <td>9550</td>\n",
       "      <td>Pave</td>\n",
       "      <td>NaN</td>\n",
       "      <td>IR1</td>\n",
       "      <td>Lvl</td>\n",
       "      <td>AllPub</td>\n",
       "      <td>...</td>\n",
       "      <td>0</td>\n",
       "      <td>NaN</td>\n",
       "      <td>NaN</td>\n",
       "      <td>NaN</td>\n",
       "      <td>0</td>\n",
       "      <td>2</td>\n",
       "      <td>2006</td>\n",
       "      <td>WD</td>\n",
       "      <td>Abnorml</td>\n",
       "      <td>140000.0</td>\n",
       "    </tr>\n",
       "    <tr>\n",
       "      <th>4</th>\n",
       "      <td>5</td>\n",
       "      <td>60</td>\n",
       "      <td>RL</td>\n",
       "      <td>84.0</td>\n",
       "      <td>14260</td>\n",
       "      <td>Pave</td>\n",
       "      <td>NaN</td>\n",
       "      <td>IR1</td>\n",
       "      <td>Lvl</td>\n",
       "      <td>AllPub</td>\n",
       "      <td>...</td>\n",
       "      <td>0</td>\n",
       "      <td>NaN</td>\n",
       "      <td>NaN</td>\n",
       "      <td>NaN</td>\n",
       "      <td>0</td>\n",
       "      <td>12</td>\n",
       "      <td>2008</td>\n",
       "      <td>WD</td>\n",
       "      <td>Normal</td>\n",
       "      <td>250000.0</td>\n",
       "    </tr>\n",
       "  </tbody>\n",
       "</table>\n",
       "<p>5 rows × 81 columns</p>\n",
       "</div>"
      ],
      "text/plain": [
       "   Id  MSSubClass MSZoning  LotFrontage  LotArea Street Alley LotShape  \\\n",
       "0   1          60       RL         65.0     8450   Pave   NaN      Reg   \n",
       "1   2          20       RL         80.0     9600   Pave   NaN      Reg   \n",
       "2   3          60       RL         68.0    11250   Pave   NaN      IR1   \n",
       "3   4          70       RL         60.0     9550   Pave   NaN      IR1   \n",
       "4   5          60       RL         84.0    14260   Pave   NaN      IR1   \n",
       "\n",
       "  LandContour Utilities  ... PoolArea PoolQC Fence MiscFeature MiscVal MoSold  \\\n",
       "0         Lvl    AllPub  ...        0    NaN   NaN         NaN       0      2   \n",
       "1         Lvl    AllPub  ...        0    NaN   NaN         NaN       0      5   \n",
       "2         Lvl    AllPub  ...        0    NaN   NaN         NaN       0      9   \n",
       "3         Lvl    AllPub  ...        0    NaN   NaN         NaN       0      2   \n",
       "4         Lvl    AllPub  ...        0    NaN   NaN         NaN       0     12   \n",
       "\n",
       "  YrSold  SaleType  SaleCondition  SalePrice  \n",
       "0   2008        WD         Normal   208500.0  \n",
       "1   2007        WD         Normal   181500.0  \n",
       "2   2008        WD         Normal   223500.0  \n",
       "3   2006        WD        Abnorml   140000.0  \n",
       "4   2008        WD         Normal   250000.0  \n",
       "\n",
       "[5 rows x 81 columns]"
      ]
     },
     "execution_count": 7,
     "metadata": {},
     "output_type": "execute_result"
    }
   ],
   "source": [
    "df.head()"
   ]
  },
  {
   "cell_type": "code",
   "execution_count": 8,
   "id": "55ab0cb1-7a08-4c95-be09-755068f79f66",
   "metadata": {
    "tags": []
   },
   "outputs": [
    {
     "data": {
      "text/html": [
       "<div>\n",
       "<style scoped>\n",
       "    .dataframe tbody tr th:only-of-type {\n",
       "        vertical-align: middle;\n",
       "    }\n",
       "\n",
       "    .dataframe tbody tr th {\n",
       "        vertical-align: top;\n",
       "    }\n",
       "\n",
       "    .dataframe thead th {\n",
       "        text-align: right;\n",
       "    }\n",
       "</style>\n",
       "<table border=\"1\" class=\"dataframe\">\n",
       "  <thead>\n",
       "    <tr style=\"text-align: right;\">\n",
       "      <th></th>\n",
       "      <th>Id</th>\n",
       "      <th>MSSubClass</th>\n",
       "      <th>MSZoning</th>\n",
       "      <th>LotFrontage</th>\n",
       "      <th>LotArea</th>\n",
       "      <th>Street</th>\n",
       "      <th>Alley</th>\n",
       "      <th>LotShape</th>\n",
       "      <th>LandContour</th>\n",
       "      <th>Utilities</th>\n",
       "      <th>...</th>\n",
       "      <th>PoolArea</th>\n",
       "      <th>PoolQC</th>\n",
       "      <th>Fence</th>\n",
       "      <th>MiscFeature</th>\n",
       "      <th>MiscVal</th>\n",
       "      <th>MoSold</th>\n",
       "      <th>YrSold</th>\n",
       "      <th>SaleType</th>\n",
       "      <th>SaleCondition</th>\n",
       "      <th>SalePrice</th>\n",
       "    </tr>\n",
       "  </thead>\n",
       "  <tbody>\n",
       "    <tr>\n",
       "      <th>1454</th>\n",
       "      <td>2915</td>\n",
       "      <td>160</td>\n",
       "      <td>RM</td>\n",
       "      <td>21.0</td>\n",
       "      <td>1936</td>\n",
       "      <td>Pave</td>\n",
       "      <td>NaN</td>\n",
       "      <td>Reg</td>\n",
       "      <td>Lvl</td>\n",
       "      <td>AllPub</td>\n",
       "      <td>...</td>\n",
       "      <td>0</td>\n",
       "      <td>NaN</td>\n",
       "      <td>NaN</td>\n",
       "      <td>NaN</td>\n",
       "      <td>0</td>\n",
       "      <td>6</td>\n",
       "      <td>2006</td>\n",
       "      <td>WD</td>\n",
       "      <td>Normal</td>\n",
       "      <td>NaN</td>\n",
       "    </tr>\n",
       "    <tr>\n",
       "      <th>1455</th>\n",
       "      <td>2916</td>\n",
       "      <td>160</td>\n",
       "      <td>RM</td>\n",
       "      <td>21.0</td>\n",
       "      <td>1894</td>\n",
       "      <td>Pave</td>\n",
       "      <td>NaN</td>\n",
       "      <td>Reg</td>\n",
       "      <td>Lvl</td>\n",
       "      <td>AllPub</td>\n",
       "      <td>...</td>\n",
       "      <td>0</td>\n",
       "      <td>NaN</td>\n",
       "      <td>NaN</td>\n",
       "      <td>NaN</td>\n",
       "      <td>0</td>\n",
       "      <td>4</td>\n",
       "      <td>2006</td>\n",
       "      <td>WD</td>\n",
       "      <td>Abnorml</td>\n",
       "      <td>NaN</td>\n",
       "    </tr>\n",
       "    <tr>\n",
       "      <th>1456</th>\n",
       "      <td>2917</td>\n",
       "      <td>20</td>\n",
       "      <td>RL</td>\n",
       "      <td>160.0</td>\n",
       "      <td>20000</td>\n",
       "      <td>Pave</td>\n",
       "      <td>NaN</td>\n",
       "      <td>Reg</td>\n",
       "      <td>Lvl</td>\n",
       "      <td>AllPub</td>\n",
       "      <td>...</td>\n",
       "      <td>0</td>\n",
       "      <td>NaN</td>\n",
       "      <td>NaN</td>\n",
       "      <td>NaN</td>\n",
       "      <td>0</td>\n",
       "      <td>9</td>\n",
       "      <td>2006</td>\n",
       "      <td>WD</td>\n",
       "      <td>Abnorml</td>\n",
       "      <td>NaN</td>\n",
       "    </tr>\n",
       "    <tr>\n",
       "      <th>1457</th>\n",
       "      <td>2918</td>\n",
       "      <td>85</td>\n",
       "      <td>RL</td>\n",
       "      <td>62.0</td>\n",
       "      <td>10441</td>\n",
       "      <td>Pave</td>\n",
       "      <td>NaN</td>\n",
       "      <td>Reg</td>\n",
       "      <td>Lvl</td>\n",
       "      <td>AllPub</td>\n",
       "      <td>...</td>\n",
       "      <td>0</td>\n",
       "      <td>NaN</td>\n",
       "      <td>MnPrv</td>\n",
       "      <td>Shed</td>\n",
       "      <td>700</td>\n",
       "      <td>7</td>\n",
       "      <td>2006</td>\n",
       "      <td>WD</td>\n",
       "      <td>Normal</td>\n",
       "      <td>NaN</td>\n",
       "    </tr>\n",
       "    <tr>\n",
       "      <th>1458</th>\n",
       "      <td>2919</td>\n",
       "      <td>60</td>\n",
       "      <td>RL</td>\n",
       "      <td>74.0</td>\n",
       "      <td>9627</td>\n",
       "      <td>Pave</td>\n",
       "      <td>NaN</td>\n",
       "      <td>Reg</td>\n",
       "      <td>Lvl</td>\n",
       "      <td>AllPub</td>\n",
       "      <td>...</td>\n",
       "      <td>0</td>\n",
       "      <td>NaN</td>\n",
       "      <td>NaN</td>\n",
       "      <td>NaN</td>\n",
       "      <td>0</td>\n",
       "      <td>11</td>\n",
       "      <td>2006</td>\n",
       "      <td>WD</td>\n",
       "      <td>Normal</td>\n",
       "      <td>NaN</td>\n",
       "    </tr>\n",
       "  </tbody>\n",
       "</table>\n",
       "<p>5 rows × 81 columns</p>\n",
       "</div>"
      ],
      "text/plain": [
       "        Id  MSSubClass MSZoning  LotFrontage  LotArea Street Alley LotShape  \\\n",
       "1454  2915         160       RM         21.0     1936   Pave   NaN      Reg   \n",
       "1455  2916         160       RM         21.0     1894   Pave   NaN      Reg   \n",
       "1456  2917          20       RL        160.0    20000   Pave   NaN      Reg   \n",
       "1457  2918          85       RL         62.0    10441   Pave   NaN      Reg   \n",
       "1458  2919          60       RL         74.0     9627   Pave   NaN      Reg   \n",
       "\n",
       "     LandContour Utilities  ... PoolArea PoolQC  Fence MiscFeature MiscVal  \\\n",
       "1454         Lvl    AllPub  ...        0    NaN    NaN         NaN       0   \n",
       "1455         Lvl    AllPub  ...        0    NaN    NaN         NaN       0   \n",
       "1456         Lvl    AllPub  ...        0    NaN    NaN         NaN       0   \n",
       "1457         Lvl    AllPub  ...        0    NaN  MnPrv        Shed     700   \n",
       "1458         Lvl    AllPub  ...        0    NaN    NaN         NaN       0   \n",
       "\n",
       "     MoSold YrSold  SaleType  SaleCondition  SalePrice  \n",
       "1454      6   2006        WD         Normal        NaN  \n",
       "1455      4   2006        WD        Abnorml        NaN  \n",
       "1456      9   2006        WD        Abnorml        NaN  \n",
       "1457      7   2006        WD         Normal        NaN  \n",
       "1458     11   2006        WD         Normal        NaN  \n",
       "\n",
       "[5 rows x 81 columns]"
      ]
     },
     "execution_count": 8,
     "metadata": {},
     "output_type": "execute_result"
    }
   ],
   "source": [
    "df.tail()"
   ]
  },
  {
   "cell_type": "code",
   "execution_count": 9,
   "id": "cfbe3054-1946-4513-9c26-1809577ea845",
   "metadata": {
    "tags": []
   },
   "outputs": [
    {
     "name": "stdout",
     "output_type": "stream",
     "text": [
      "<class 'pandas.core.frame.DataFrame'>\n",
      "Index: 2919 entries, 0 to 1458\n",
      "Data columns (total 81 columns):\n",
      " #   Column         Non-Null Count  Dtype  \n",
      "---  ------         --------------  -----  \n",
      " 0   Id             2919 non-null   int64  \n",
      " 1   MSSubClass     2919 non-null   int64  \n",
      " 2   MSZoning       2915 non-null   object \n",
      " 3   LotFrontage    2433 non-null   float64\n",
      " 4   LotArea        2919 non-null   int64  \n",
      " 5   Street         2919 non-null   object \n",
      " 6   Alley          198 non-null    object \n",
      " 7   LotShape       2919 non-null   object \n",
      " 8   LandContour    2919 non-null   object \n",
      " 9   Utilities      2917 non-null   object \n",
      " 10  LotConfig      2919 non-null   object \n",
      " 11  LandSlope      2919 non-null   object \n",
      " 12  Neighborhood   2919 non-null   object \n",
      " 13  Condition1     2919 non-null   object \n",
      " 14  Condition2     2919 non-null   object \n",
      " 15  BldgType       2919 non-null   object \n",
      " 16  HouseStyle     2919 non-null   object \n",
      " 17  OverallQual    2919 non-null   int64  \n",
      " 18  OverallCond    2919 non-null   int64  \n",
      " 19  YearBuilt      2919 non-null   int64  \n",
      " 20  YearRemodAdd   2919 non-null   int64  \n",
      " 21  RoofStyle      2919 non-null   object \n",
      " 22  RoofMatl       2919 non-null   object \n",
      " 23  Exterior1st    2918 non-null   object \n",
      " 24  Exterior2nd    2918 non-null   object \n",
      " 25  MasVnrType     1153 non-null   object \n",
      " 26  MasVnrArea     2896 non-null   float64\n",
      " 27  ExterQual      2919 non-null   object \n",
      " 28  ExterCond      2919 non-null   object \n",
      " 29  Foundation     2919 non-null   object \n",
      " 30  BsmtQual       2838 non-null   object \n",
      " 31  BsmtCond       2837 non-null   object \n",
      " 32  BsmtExposure   2837 non-null   object \n",
      " 33  BsmtFinType1   2840 non-null   object \n",
      " 34  BsmtFinSF1     2918 non-null   float64\n",
      " 35  BsmtFinType2   2839 non-null   object \n",
      " 36  BsmtFinSF2     2918 non-null   float64\n",
      " 37  BsmtUnfSF      2918 non-null   float64\n",
      " 38  TotalBsmtSF    2918 non-null   float64\n",
      " 39  Heating        2919 non-null   object \n",
      " 40  HeatingQC      2919 non-null   object \n",
      " 41  CentralAir     2919 non-null   object \n",
      " 42  Electrical     2918 non-null   object \n",
      " 43  1stFlrSF       2919 non-null   int64  \n",
      " 44  2ndFlrSF       2919 non-null   int64  \n",
      " 45  LowQualFinSF   2919 non-null   int64  \n",
      " 46  GrLivArea      2919 non-null   int64  \n",
      " 47  BsmtFullBath   2917 non-null   float64\n",
      " 48  BsmtHalfBath   2917 non-null   float64\n",
      " 49  FullBath       2919 non-null   int64  \n",
      " 50  HalfBath       2919 non-null   int64  \n",
      " 51  BedroomAbvGr   2919 non-null   int64  \n",
      " 52  KitchenAbvGr   2919 non-null   int64  \n",
      " 53  KitchenQual    2918 non-null   object \n",
      " 54  TotRmsAbvGrd   2919 non-null   int64  \n",
      " 55  Functional     2917 non-null   object \n",
      " 56  Fireplaces     2919 non-null   int64  \n",
      " 57  FireplaceQu    1499 non-null   object \n",
      " 58  GarageType     2762 non-null   object \n",
      " 59  GarageYrBlt    2760 non-null   float64\n",
      " 60  GarageFinish   2760 non-null   object \n",
      " 61  GarageCars     2918 non-null   float64\n",
      " 62  GarageArea     2918 non-null   float64\n",
      " 63  GarageQual     2760 non-null   object \n",
      " 64  GarageCond     2760 non-null   object \n",
      " 65  PavedDrive     2919 non-null   object \n",
      " 66  WoodDeckSF     2919 non-null   int64  \n",
      " 67  OpenPorchSF    2919 non-null   int64  \n",
      " 68  EnclosedPorch  2919 non-null   int64  \n",
      " 69  3SsnPorch      2919 non-null   int64  \n",
      " 70  ScreenPorch    2919 non-null   int64  \n",
      " 71  PoolArea       2919 non-null   int64  \n",
      " 72  PoolQC         10 non-null     object \n",
      " 73  Fence          571 non-null    object \n",
      " 74  MiscFeature    105 non-null    object \n",
      " 75  MiscVal        2919 non-null   int64  \n",
      " 76  MoSold         2919 non-null   int64  \n",
      " 77  YrSold         2919 non-null   int64  \n",
      " 78  SaleType       2918 non-null   object \n",
      " 79  SaleCondition  2919 non-null   object \n",
      " 80  SalePrice      1460 non-null   float64\n",
      "dtypes: float64(12), int64(26), object(43)\n",
      "memory usage: 1.8+ MB\n"
     ]
    }
   ],
   "source": [
    "df.info()"
   ]
  },
  {
   "cell_type": "code",
   "execution_count": 10,
   "id": "61fe10bd-ba4e-49e5-a228-88f09ea1f43f",
   "metadata": {
    "tags": []
   },
   "outputs": [
    {
     "name": "stdout",
     "output_type": "stream",
     "text": [
      "total number of integer features : 26\n",
      "integer feature names:  ['Id', 'MSSubClass', 'LotArea', 'OverallQual', 'OverallCond', 'YearBuilt', 'YearRemodAdd', '1stFlrSF', '2ndFlrSF', 'LowQualFinSF', 'GrLivArea', 'FullBath', 'HalfBath', 'BedroomAbvGr', 'KitchenAbvGr', 'TotRmsAbvGrd', 'Fireplaces', 'WoodDeckSF', 'OpenPorchSF', 'EnclosedPorch', '3SsnPorch', 'ScreenPorch', 'PoolArea', 'MiscVal', 'MoSold', 'YrSold']\n"
     ]
    }
   ],
   "source": [
    "int_features = df.select_dtypes(include = [\"int64\"]).columns\n",
    "print(\"total number of integer features :\", int_features.shape[0])\n",
    "\n",
    "print(\"integer feature names: \",int_features.tolist())"
   ]
  },
  {
   "cell_type": "code",
   "execution_count": 11,
   "id": "4d1c6882-efb5-433a-a67d-b07ca3c45e53",
   "metadata": {
    "tags": []
   },
   "outputs": [
    {
     "name": "stdout",
     "output_type": "stream",
     "text": [
      "total number of float features : 12\n",
      "float feature names:  ['LotFrontage', 'MasVnrArea', 'BsmtFinSF1', 'BsmtFinSF2', 'BsmtUnfSF', 'TotalBsmtSF', 'BsmtFullBath', 'BsmtHalfBath', 'GarageYrBlt', 'GarageCars', 'GarageArea', 'SalePrice']\n"
     ]
    }
   ],
   "source": [
    "float_features = df.select_dtypes(include = [\"float64\"]).columns\n",
    "print(\"total number of float features :\", float_features.shape[0])\n",
    "\n",
    "print(\"float feature names: \",float_features.tolist())"
   ]
  },
  {
   "cell_type": "code",
   "execution_count": 12,
   "id": "2cd53fc4-47b2-422d-9e67-e492b5d86d9e",
   "metadata": {
    "tags": []
   },
   "outputs": [
    {
     "name": "stdout",
     "output_type": "stream",
     "text": [
      "total number of categorical features : 43\n",
      "categorical feature names:  ['MSZoning', 'Street', 'Alley', 'LotShape', 'LandContour', 'Utilities', 'LotConfig', 'LandSlope', 'Neighborhood', 'Condition1', 'Condition2', 'BldgType', 'HouseStyle', 'RoofStyle', 'RoofMatl', 'Exterior1st', 'Exterior2nd', 'MasVnrType', 'ExterQual', 'ExterCond', 'Foundation', 'BsmtQual', 'BsmtCond', 'BsmtExposure', 'BsmtFinType1', 'BsmtFinType2', 'Heating', 'HeatingQC', 'CentralAir', 'Electrical', 'KitchenQual', 'Functional', 'FireplaceQu', 'GarageType', 'GarageFinish', 'GarageQual', 'GarageCond', 'PavedDrive', 'PoolQC', 'Fence', 'MiscFeature', 'SaleType', 'SaleCondition']\n"
     ]
    }
   ],
   "source": [
    "cat_features = df.select_dtypes(include = [\"object\"]).columns\n",
    "print(\"total number of categorical features :\", cat_features.shape[0])\n",
    "\n",
    "print(\"categorical feature names: \",cat_features.tolist())"
   ]
  },
  {
   "cell_type": "markdown",
   "id": "56f93b3a-69fb-4fe6-8576-20a4402446e5",
   "metadata": {},
   "source": [
    "# get  the statistical info of numerical features"
   ]
  },
  {
   "cell_type": "code",
   "execution_count": 13,
   "id": "c74e8d8e-a25f-447b-9977-7ec32c11fad1",
   "metadata": {
    "tags": []
   },
   "outputs": [
    {
     "data": {
      "text/html": [
       "<div>\n",
       "<style scoped>\n",
       "    .dataframe tbody tr th:only-of-type {\n",
       "        vertical-align: middle;\n",
       "    }\n",
       "\n",
       "    .dataframe tbody tr th {\n",
       "        vertical-align: top;\n",
       "    }\n",
       "\n",
       "    .dataframe thead th {\n",
       "        text-align: right;\n",
       "    }\n",
       "</style>\n",
       "<table border=\"1\" class=\"dataframe\">\n",
       "  <thead>\n",
       "    <tr style=\"text-align: right;\">\n",
       "      <th></th>\n",
       "      <th>Id</th>\n",
       "      <th>MSSubClass</th>\n",
       "      <th>LotFrontage</th>\n",
       "      <th>LotArea</th>\n",
       "      <th>OverallQual</th>\n",
       "      <th>OverallCond</th>\n",
       "      <th>YearBuilt</th>\n",
       "      <th>YearRemodAdd</th>\n",
       "      <th>MasVnrArea</th>\n",
       "      <th>BsmtFinSF1</th>\n",
       "      <th>...</th>\n",
       "      <th>WoodDeckSF</th>\n",
       "      <th>OpenPorchSF</th>\n",
       "      <th>EnclosedPorch</th>\n",
       "      <th>3SsnPorch</th>\n",
       "      <th>ScreenPorch</th>\n",
       "      <th>PoolArea</th>\n",
       "      <th>MiscVal</th>\n",
       "      <th>MoSold</th>\n",
       "      <th>YrSold</th>\n",
       "      <th>SalePrice</th>\n",
       "    </tr>\n",
       "  </thead>\n",
       "  <tbody>\n",
       "    <tr>\n",
       "      <th>count</th>\n",
       "      <td>2919.000000</td>\n",
       "      <td>2919.000000</td>\n",
       "      <td>2433.000000</td>\n",
       "      <td>2919.000000</td>\n",
       "      <td>2919.000000</td>\n",
       "      <td>2919.000000</td>\n",
       "      <td>2919.000000</td>\n",
       "      <td>2919.000000</td>\n",
       "      <td>2896.000000</td>\n",
       "      <td>2918.000000</td>\n",
       "      <td>...</td>\n",
       "      <td>2919.000000</td>\n",
       "      <td>2919.000000</td>\n",
       "      <td>2919.000000</td>\n",
       "      <td>2919.000000</td>\n",
       "      <td>2919.000000</td>\n",
       "      <td>2919.000000</td>\n",
       "      <td>2919.000000</td>\n",
       "      <td>2919.000000</td>\n",
       "      <td>2919.000000</td>\n",
       "      <td>1460.000000</td>\n",
       "    </tr>\n",
       "    <tr>\n",
       "      <th>mean</th>\n",
       "      <td>1460.000000</td>\n",
       "      <td>57.137718</td>\n",
       "      <td>69.305795</td>\n",
       "      <td>10168.114080</td>\n",
       "      <td>6.089072</td>\n",
       "      <td>5.564577</td>\n",
       "      <td>1971.312778</td>\n",
       "      <td>1984.264474</td>\n",
       "      <td>102.201312</td>\n",
       "      <td>441.423235</td>\n",
       "      <td>...</td>\n",
       "      <td>93.709832</td>\n",
       "      <td>47.486811</td>\n",
       "      <td>23.098321</td>\n",
       "      <td>2.602261</td>\n",
       "      <td>16.062350</td>\n",
       "      <td>2.251799</td>\n",
       "      <td>50.825968</td>\n",
       "      <td>6.213087</td>\n",
       "      <td>2007.792737</td>\n",
       "      <td>180921.195890</td>\n",
       "    </tr>\n",
       "    <tr>\n",
       "      <th>std</th>\n",
       "      <td>842.787043</td>\n",
       "      <td>42.517628</td>\n",
       "      <td>23.344905</td>\n",
       "      <td>7886.996359</td>\n",
       "      <td>1.409947</td>\n",
       "      <td>1.113131</td>\n",
       "      <td>30.291442</td>\n",
       "      <td>20.894344</td>\n",
       "      <td>179.334253</td>\n",
       "      <td>455.610826</td>\n",
       "      <td>...</td>\n",
       "      <td>126.526589</td>\n",
       "      <td>67.575493</td>\n",
       "      <td>64.244246</td>\n",
       "      <td>25.188169</td>\n",
       "      <td>56.184365</td>\n",
       "      <td>35.663946</td>\n",
       "      <td>567.402211</td>\n",
       "      <td>2.714762</td>\n",
       "      <td>1.314964</td>\n",
       "      <td>79442.502883</td>\n",
       "    </tr>\n",
       "    <tr>\n",
       "      <th>min</th>\n",
       "      <td>1.000000</td>\n",
       "      <td>20.000000</td>\n",
       "      <td>21.000000</td>\n",
       "      <td>1300.000000</td>\n",
       "      <td>1.000000</td>\n",
       "      <td>1.000000</td>\n",
       "      <td>1872.000000</td>\n",
       "      <td>1950.000000</td>\n",
       "      <td>0.000000</td>\n",
       "      <td>0.000000</td>\n",
       "      <td>...</td>\n",
       "      <td>0.000000</td>\n",
       "      <td>0.000000</td>\n",
       "      <td>0.000000</td>\n",
       "      <td>0.000000</td>\n",
       "      <td>0.000000</td>\n",
       "      <td>0.000000</td>\n",
       "      <td>0.000000</td>\n",
       "      <td>1.000000</td>\n",
       "      <td>2006.000000</td>\n",
       "      <td>34900.000000</td>\n",
       "    </tr>\n",
       "    <tr>\n",
       "      <th>25%</th>\n",
       "      <td>730.500000</td>\n",
       "      <td>20.000000</td>\n",
       "      <td>59.000000</td>\n",
       "      <td>7478.000000</td>\n",
       "      <td>5.000000</td>\n",
       "      <td>5.000000</td>\n",
       "      <td>1953.500000</td>\n",
       "      <td>1965.000000</td>\n",
       "      <td>0.000000</td>\n",
       "      <td>0.000000</td>\n",
       "      <td>...</td>\n",
       "      <td>0.000000</td>\n",
       "      <td>0.000000</td>\n",
       "      <td>0.000000</td>\n",
       "      <td>0.000000</td>\n",
       "      <td>0.000000</td>\n",
       "      <td>0.000000</td>\n",
       "      <td>0.000000</td>\n",
       "      <td>4.000000</td>\n",
       "      <td>2007.000000</td>\n",
       "      <td>129975.000000</td>\n",
       "    </tr>\n",
       "    <tr>\n",
       "      <th>50%</th>\n",
       "      <td>1460.000000</td>\n",
       "      <td>50.000000</td>\n",
       "      <td>68.000000</td>\n",
       "      <td>9453.000000</td>\n",
       "      <td>6.000000</td>\n",
       "      <td>5.000000</td>\n",
       "      <td>1973.000000</td>\n",
       "      <td>1993.000000</td>\n",
       "      <td>0.000000</td>\n",
       "      <td>368.500000</td>\n",
       "      <td>...</td>\n",
       "      <td>0.000000</td>\n",
       "      <td>26.000000</td>\n",
       "      <td>0.000000</td>\n",
       "      <td>0.000000</td>\n",
       "      <td>0.000000</td>\n",
       "      <td>0.000000</td>\n",
       "      <td>0.000000</td>\n",
       "      <td>6.000000</td>\n",
       "      <td>2008.000000</td>\n",
       "      <td>163000.000000</td>\n",
       "    </tr>\n",
       "    <tr>\n",
       "      <th>75%</th>\n",
       "      <td>2189.500000</td>\n",
       "      <td>70.000000</td>\n",
       "      <td>80.000000</td>\n",
       "      <td>11570.000000</td>\n",
       "      <td>7.000000</td>\n",
       "      <td>6.000000</td>\n",
       "      <td>2001.000000</td>\n",
       "      <td>2004.000000</td>\n",
       "      <td>164.000000</td>\n",
       "      <td>733.000000</td>\n",
       "      <td>...</td>\n",
       "      <td>168.000000</td>\n",
       "      <td>70.000000</td>\n",
       "      <td>0.000000</td>\n",
       "      <td>0.000000</td>\n",
       "      <td>0.000000</td>\n",
       "      <td>0.000000</td>\n",
       "      <td>0.000000</td>\n",
       "      <td>8.000000</td>\n",
       "      <td>2009.000000</td>\n",
       "      <td>214000.000000</td>\n",
       "    </tr>\n",
       "    <tr>\n",
       "      <th>max</th>\n",
       "      <td>2919.000000</td>\n",
       "      <td>190.000000</td>\n",
       "      <td>313.000000</td>\n",
       "      <td>215245.000000</td>\n",
       "      <td>10.000000</td>\n",
       "      <td>9.000000</td>\n",
       "      <td>2010.000000</td>\n",
       "      <td>2010.000000</td>\n",
       "      <td>1600.000000</td>\n",
       "      <td>5644.000000</td>\n",
       "      <td>...</td>\n",
       "      <td>1424.000000</td>\n",
       "      <td>742.000000</td>\n",
       "      <td>1012.000000</td>\n",
       "      <td>508.000000</td>\n",
       "      <td>576.000000</td>\n",
       "      <td>800.000000</td>\n",
       "      <td>17000.000000</td>\n",
       "      <td>12.000000</td>\n",
       "      <td>2010.000000</td>\n",
       "      <td>755000.000000</td>\n",
       "    </tr>\n",
       "  </tbody>\n",
       "</table>\n",
       "<p>8 rows × 38 columns</p>\n",
       "</div>"
      ],
      "text/plain": [
       "                Id   MSSubClass  LotFrontage        LotArea  OverallQual  \\\n",
       "count  2919.000000  2919.000000  2433.000000    2919.000000  2919.000000   \n",
       "mean   1460.000000    57.137718    69.305795   10168.114080     6.089072   \n",
       "std     842.787043    42.517628    23.344905    7886.996359     1.409947   \n",
       "min       1.000000    20.000000    21.000000    1300.000000     1.000000   \n",
       "25%     730.500000    20.000000    59.000000    7478.000000     5.000000   \n",
       "50%    1460.000000    50.000000    68.000000    9453.000000     6.000000   \n",
       "75%    2189.500000    70.000000    80.000000   11570.000000     7.000000   \n",
       "max    2919.000000   190.000000   313.000000  215245.000000    10.000000   \n",
       "\n",
       "       OverallCond    YearBuilt  YearRemodAdd   MasVnrArea   BsmtFinSF1  ...  \\\n",
       "count  2919.000000  2919.000000   2919.000000  2896.000000  2918.000000  ...   \n",
       "mean      5.564577  1971.312778   1984.264474   102.201312   441.423235  ...   \n",
       "std       1.113131    30.291442     20.894344   179.334253   455.610826  ...   \n",
       "min       1.000000  1872.000000   1950.000000     0.000000     0.000000  ...   \n",
       "25%       5.000000  1953.500000   1965.000000     0.000000     0.000000  ...   \n",
       "50%       5.000000  1973.000000   1993.000000     0.000000   368.500000  ...   \n",
       "75%       6.000000  2001.000000   2004.000000   164.000000   733.000000  ...   \n",
       "max       9.000000  2010.000000   2010.000000  1600.000000  5644.000000  ...   \n",
       "\n",
       "        WoodDeckSF  OpenPorchSF  EnclosedPorch    3SsnPorch  ScreenPorch  \\\n",
       "count  2919.000000  2919.000000    2919.000000  2919.000000  2919.000000   \n",
       "mean     93.709832    47.486811      23.098321     2.602261    16.062350   \n",
       "std     126.526589    67.575493      64.244246    25.188169    56.184365   \n",
       "min       0.000000     0.000000       0.000000     0.000000     0.000000   \n",
       "25%       0.000000     0.000000       0.000000     0.000000     0.000000   \n",
       "50%       0.000000    26.000000       0.000000     0.000000     0.000000   \n",
       "75%     168.000000    70.000000       0.000000     0.000000     0.000000   \n",
       "max    1424.000000   742.000000    1012.000000   508.000000   576.000000   \n",
       "\n",
       "          PoolArea       MiscVal       MoSold       YrSold      SalePrice  \n",
       "count  2919.000000   2919.000000  2919.000000  2919.000000    1460.000000  \n",
       "mean      2.251799     50.825968     6.213087  2007.792737  180921.195890  \n",
       "std      35.663946    567.402211     2.714762     1.314964   79442.502883  \n",
       "min       0.000000      0.000000     1.000000  2006.000000   34900.000000  \n",
       "25%       0.000000      0.000000     4.000000  2007.000000  129975.000000  \n",
       "50%       0.000000      0.000000     6.000000  2008.000000  163000.000000  \n",
       "75%       0.000000      0.000000     8.000000  2009.000000  214000.000000  \n",
       "max     800.000000  17000.000000    12.000000  2010.000000  755000.000000  \n",
       "\n",
       "[8 rows x 38 columns]"
      ]
     },
     "execution_count": 13,
     "metadata": {},
     "output_type": "execute_result"
    }
   ],
   "source": [
    "df.describe()"
   ]
  },
  {
   "cell_type": "code",
   "execution_count": 14,
   "id": "bffab08d-a6bb-47bf-bcbf-64ecdfc853cf",
   "metadata": {
    "tags": []
   },
   "outputs": [
    {
     "data": {
      "text/plain": [
       "(8, 38)"
      ]
     },
     "execution_count": 14,
     "metadata": {},
     "output_type": "execute_result"
    }
   ],
   "source": [
    "df.describe().shape"
   ]
  },
  {
   "cell_type": "markdown",
   "id": "2a24d92a-7806-434b-a810-d5452208e713",
   "metadata": {},
   "source": [
    "# visualise percentage for every features"
   ]
  },
  {
   "cell_type": "code",
   "execution_count": 15,
   "id": "c99c8fc3-d3a0-44d8-9279-ba4a13c7cd81",
   "metadata": {
    "tags": []
   },
   "outputs": [
    {
     "data": {
      "image/png": "[encoded data removed]",
      "text/plain": [
       "<Figure size 1600x900 with 2 Axes>"
      ]
     },
     "metadata": {},
     "output_type": "display_data"
    }
   ],
   "source": [
    "plt.figure(figsize=(16,9))\n",
    "sns.heatmap(df.isnull())\n",
    "plt.savefig(\"EDA_img/heatmap_of_nukk_value.png\")"
   ]
  },
  {
   "cell_type": "code",
   "execution_count": 16,
   "id": "29e03eeb-6851-42d8-8d1f-3e95479723b8",
   "metadata": {
    "tags": []
   },
   "outputs": [],
   "source": [
    "# set index as id column \n",
    "df = df.set_index(\"Id\")"
   ]
  },
  {
   "cell_type": "code",
   "execution_count": 17,
   "id": "c5ce4b44-bfef-410b-8cea-ad946850aa7f",
   "metadata": {
    "tags": []
   },
   "outputs": [
    {
     "data": {
      "text/plain": [
       "MSSubClass          0\n",
       "MSZoning            4\n",
       "LotFrontage       486\n",
       "LotArea             0\n",
       "Street              0\n",
       "                 ... \n",
       "MoSold              0\n",
       "YrSold              0\n",
       "SaleType            1\n",
       "SaleCondition       0\n",
       "SalePrice        1459\n",
       "Length: 80, dtype: int64"
      ]
     },
     "execution_count": 17,
     "metadata": {},
     "output_type": "execute_result"
    }
   ],
   "source": [
    "null_count = df.isnull().sum()\n",
    "null_count"
   ]
  },
  {
   "cell_type": "code",
   "execution_count": 18,
   "id": "ce9209c5-7dae-4f2e-b4cd-83be61744c7f",
   "metadata": {},
   "outputs": [
    {
     "data": {
      "text/plain": [
       "MSSubClass        0.000000\n",
       "MSZoning          0.137033\n",
       "LotFrontage      16.649538\n",
       "LotArea           0.000000\n",
       "Street            0.000000\n",
       "                   ...    \n",
       "MoSold            0.000000\n",
       "YrSold            0.000000\n",
       "SaleType          0.034258\n",
       "SaleCondition     0.000000\n",
       "SalePrice        49.982871\n",
       "Length: 80, dtype: float64"
      ]
     },
     "execution_count": 18,
     "metadata": {},
     "output_type": "execute_result"
    }
   ],
   "source": [
    "null_percent = df.isnull().sum()/df.shape[0] *100\n",
    "null_percent"
   ]
  },
  {
   "cell_type": "markdown",
   "id": "dcd87cf5-ca4e-4a86-8aea-a7f37b62e556",
   "metadata": {},
   "source": [
    "# drop columns/features"
   ]
  },
  {
   "cell_type": "code",
   "execution_count": 19,
   "id": "d64fdece-fa47-46ad-83c0-782d7fc7d5bc",
   "metadata": {
    "tags": []
   },
   "outputs": [
    {
     "data": {
      "text/plain": [
       "Alley          93.216855\n",
       "MasVnrType     60.500171\n",
       "PoolQC         99.657417\n",
       "Fence          80.438506\n",
       "MiscFeature    96.402878\n",
       "dtype: float64"
      ]
     },
     "execution_count": 19,
     "metadata": {},
     "output_type": "execute_result"
    }
   ],
   "source": [
    "\"\"\"as per domain knowldge we will not drop those , insead none value we will add constant value NA \"\"\"\n",
    "miss_value_50per = null_percent[null_percent > 50]\n",
    "miss_value_50per"
   ]
  },
  {
   "cell_type": "code",
   "execution_count": 20,
   "id": "f043279c-94d3-4f57-b582-8b73781d0499",
   "metadata": {
    "tags": []
   },
   "outputs": [
    {
     "data": {
      "text/plain": [
       "Alley\n",
       "Grvl    120\n",
       "Pave     78\n",
       "Name: count, dtype: int64"
      ]
     },
     "execution_count": 20,
     "metadata": {},
     "output_type": "execute_result"
    }
   ],
   "source": [
    "df[\"Alley\"].value_counts()"
   ]
  },
  {
   "cell_type": "code",
   "execution_count": 21,
   "id": "dbd152d7-300d-498c-874c-87f3052a8326",
   "metadata": {
    "tags": []
   },
   "outputs": [
    {
     "data": {
      "text/plain": [
       "FireplaceQu    48.646797\n",
       "SalePrice      49.982871\n",
       "dtype: float64"
      ]
     },
     "execution_count": 21,
     "metadata": {},
     "output_type": "execute_result"
    }
   ],
   "source": [
    "miss_value_20_50per = null_percent[(null_percent >20) & (null_percent < 51)]\n",
    "miss_value_20_50per"
   ]
  },
  {
   "cell_type": "code",
   "execution_count": 22,
   "id": "8237e211-f9bd-40fa-9c99-8edb3d097746",
   "metadata": {
    "tags": []
   },
   "outputs": [
    {
     "data": {
      "text/plain": [
       "LotFrontage     16.649538\n",
       "GarageType       5.378554\n",
       "GarageYrBlt      5.447071\n",
       "GarageFinish     5.447071\n",
       "GarageQual       5.447071\n",
       "GarageCond       5.447071\n",
       "dtype: float64"
      ]
     },
     "execution_count": 22,
     "metadata": {},
     "output_type": "execute_result"
    }
   ],
   "source": [
    "miss_value_5_20per = null_percent[(null_percent >5) & (null_percent < 21)]\n",
    "miss_value_5_20per"
   ]
  },
  {
   "cell_type": "code",
   "execution_count": 23,
   "id": "10d1bb1d-1c89-445a-9fef-7ea3cc3318ec",
   "metadata": {
    "tags": []
   },
   "outputs": [
    {
     "data": {
      "text/plain": [
       "LotFrontage\n",
       "60.0    276\n",
       "80.0    137\n",
       "70.0    133\n",
       "50.0    117\n",
       "75.0    105\n",
       "Name: count, dtype: int64"
      ]
     },
     "execution_count": 23,
     "metadata": {},
     "output_type": "execute_result"
    }
   ],
   "source": [
    "df [\"LotFrontage\"].value_counts().head()"
   ]
  },
  {
   "cell_type": "code",
   "execution_count": 24,
   "id": "b08fd878-6d01-4158-b243-be5afd7a079a",
   "metadata": {
    "tags": []
   },
   "outputs": [
    {
     "data": {
      "text/plain": [
       "<Axes: ylabel='Id'>"
      ]
     },
     "execution_count": 24,
     "metadata": {},
     "output_type": "execute_result"
    },
    {
     "data": {
      "image/png": "[encoded data removed]",
      "text/plain": [
       "<Figure size 640x480 with 2 Axes>"
      ]
     },
     "metadata": {},
     "output_type": "display_data"
    }
   ],
   "source": [
    "sns.heatmap(df[miss_value_5_20per.keys()].isnull())"
   ]
  },
  {
   "cell_type": "markdown",
   "id": "8c203ac8-80e2-459a-8ad9-cf03aa8f4dfd",
   "metadata": {},
   "source": [
    "# missing value imputation"
   ]
  },
  {
   "cell_type": "code",
   "execution_count": 25,
   "id": "fd4e5d3c-139e-4b1c-9d72-4d45740e7b9a",
   "metadata": {
    "tags": []
   },
   "outputs": [
    {
     "name": "stdout",
     "output_type": "stream",
     "text": [
      "Total missing value  =  35\n"
     ]
    }
   ],
   "source": [
    "missing_value_feature = null_percent[null_percent > 0]\n",
    "print(\"Total missing value  = \", len(missing_value_feature ))"
   ]
  },
  {
   "cell_type": "code",
   "execution_count": 26,
   "id": "35e658d4-7a56-475b-a45d-e21ca87e9384",
   "metadata": {
    "tags": []
   },
   "outputs": [
    {
     "data": {
      "text/plain": [
       "MSZoning         0.137033\n",
       "LotFrontage     16.649538\n",
       "Alley           93.216855\n",
       "Utilities        0.068517\n",
       "Exterior1st      0.034258\n",
       "Exterior2nd      0.034258\n",
       "MasVnrType      60.500171\n",
       "MasVnrArea       0.787941\n",
       "BsmtQual         2.774923\n",
       "BsmtCond         2.809181\n",
       "BsmtExposure     2.809181\n",
       "BsmtFinType1     2.706406\n",
       "BsmtFinSF1       0.034258\n",
       "BsmtFinType2     2.740665\n",
       "BsmtFinSF2       0.034258\n",
       "BsmtUnfSF        0.034258\n",
       "TotalBsmtSF      0.034258\n",
       "Electrical       0.034258\n",
       "BsmtFullBath     0.068517\n",
       "BsmtHalfBath     0.068517\n",
       "KitchenQual      0.034258\n",
       "Functional       0.068517\n",
       "FireplaceQu     48.646797\n",
       "GarageType       5.378554\n",
       "GarageYrBlt      5.447071\n",
       "GarageFinish     5.447071\n",
       "GarageCars       0.034258\n",
       "GarageArea       0.034258\n",
       "GarageQual       5.447071\n",
       "GarageCond       5.447071\n",
       "PoolQC          99.657417\n",
       "Fence           80.438506\n",
       "MiscFeature     96.402878\n",
       "SaleType         0.034258\n",
       "SalePrice       49.982871\n",
       "dtype: float64"
      ]
     },
     "execution_count": 26,
     "metadata": {},
     "output_type": "execute_result"
    }
   ],
   "source": [
    "missing_value_feature"
   ]
  },
  {
   "cell_type": "code",
   "execution_count": 27,
   "id": "5fae54b3-9c63-4c79-8c07-f2e38d651c52",
   "metadata": {
    "tags": []
   },
   "outputs": [
    {
     "name": "stdout",
     "output_type": "stream",
     "text": [
      "Total number of catogorical missing value  23\n"
     ]
    },
    {
     "data": {
      "text/plain": [
       "MSZoning         0.137033\n",
       "Alley           93.216855\n",
       "Utilities        0.068517\n",
       "Exterior1st      0.034258\n",
       "Exterior2nd      0.034258\n",
       "MasVnrType      60.500171\n",
       "BsmtQual         2.774923\n",
       "BsmtCond         2.809181\n",
       "BsmtExposure     2.809181\n",
       "BsmtFinType1     2.706406\n",
       "BsmtFinType2     2.740665\n",
       "Electrical       0.034258\n",
       "KitchenQual      0.034258\n",
       "Functional       0.068517\n",
       "FireplaceQu     48.646797\n",
       "GarageType       5.378554\n",
       "GarageFinish     5.447071\n",
       "GarageQual       5.447071\n",
       "GarageCond       5.447071\n",
       "PoolQC          99.657417\n",
       "Fence           80.438506\n",
       "MiscFeature     96.402878\n",
       "SaleType         0.034258\n",
       "dtype: float64"
      ]
     },
     "execution_count": 27,
     "metadata": {},
     "output_type": "execute_result"
    }
   ],
   "source": [
    "cat_na_feat = missing_value_feature[missing_value_feature.keys().isin(cat_features)]\n",
    "print(\"Total number of catogorical missing value \",len(cat_na_feat))\n",
    "cat_na_feat"
   ]
  },
  {
   "cell_type": "code",
   "execution_count": 28,
   "id": "b5aa037a-f0a9-46cc-a446-4668306359a8",
   "metadata": {
    "tags": []
   },
   "outputs": [
    {
     "name": "stdout",
     "output_type": "stream",
     "text": [
      "Total number of catogorical missing value  0\n"
     ]
    },
    {
     "data": {
      "text/plain": [
       "Series([], dtype: float64)"
      ]
     },
     "execution_count": 28,
     "metadata": {},
     "output_type": "execute_result"
    }
   ],
   "source": [
    "int_na_feat = missing_value_feature[missing_value_feature.keys().isin(int_features)]\n",
    "print(\"Total number of catogorical missing value \",len(int_na_feat))\n",
    "int_na_feat"
   ]
  },
  {
   "cell_type": "code",
   "execution_count": 29,
   "id": "2dee9e26-310d-40f1-940c-9ebebb3abc61",
   "metadata": {
    "tags": []
   },
   "outputs": [
    {
     "name": "stdout",
     "output_type": "stream",
     "text": [
      "Total number of catogorical missing value  12\n"
     ]
    },
    {
     "data": {
      "text/plain": [
       "LotFrontage     16.649538\n",
       "MasVnrArea       0.787941\n",
       "BsmtFinSF1       0.034258\n",
       "BsmtFinSF2       0.034258\n",
       "BsmtUnfSF        0.034258\n",
       "TotalBsmtSF      0.034258\n",
       "BsmtFullBath     0.068517\n",
       "BsmtHalfBath     0.068517\n",
       "GarageYrBlt      5.447071\n",
       "GarageCars       0.034258\n",
       "GarageArea       0.034258\n",
       "SalePrice       49.982871\n",
       "dtype: float64"
      ]
     },
     "execution_count": 29,
     "metadata": {},
     "output_type": "execute_result"
    }
   ],
   "source": [
    "float_na_feat = missing_value_feature[missing_value_feature.keys().isin(float_features)]\n",
    "print(\"Total number of catogorical missing value \",len(float_na_feat))\n",
    "float_na_feat"
   ]
  },
  {
   "cell_type": "markdown",
   "id": "6102d8a9-89b3-4715-831e-80b9cd69dd03",
   "metadata": {
    "tags": []
   },
   "source": [
    "### handling MSZoning = 0.137033"
   ]
  },
  {
   "cell_type": "code",
   "execution_count": 30,
   "id": "5958b4a8-235f-4a75-be70-43ad1ff75c5e",
   "metadata": {
    "tags": []
   },
   "outputs": [
    {
     "data": {
      "text/plain": [
       "MSZoning\n",
       "RL         2265\n",
       "RM          460\n",
       "FV          139\n",
       "RH           26\n",
       "C (all)      25\n",
       "Name: count, dtype: int64"
      ]
     },
     "execution_count": 30,
     "metadata": {},
     "output_type": "execute_result"
    }
   ],
   "source": [
    "df[\"MSZoning\"].value_counts()"
   ]
  },
  {
   "cell_type": "code",
   "execution_count": 31,
   "id": "7015d957-61ea-4695-87ab-818682e05b6c",
   "metadata": {
    "tags": []
   },
   "outputs": [
    {
     "data": {
      "text/plain": [
       "<Axes: xlabel='MSZoning', ylabel='count'>"
      ]
     },
     "execution_count": 31,
     "metadata": {},
     "output_type": "execute_result"
    },
    {
     "data": {
      "image/png": "[encoded data removed]",
      "text/plain": [
       "<Figure size 640x480 with 1 Axes>"
      ]
     },
     "metadata": {},
     "output_type": "display_data"
    }
   ],
   "source": [
    "# df.columns\n",
    "sns.countplot(x = df[\"MSZoning\"],data=df)"
   ]
  },
  {
   "cell_type": "code",
   "execution_count": 32,
   "id": "919f423b-1eab-4fd0-9c4a-dde6c1dbe0f4",
   "metadata": {
    "tags": []
   },
   "outputs": [
    {
     "data": {
      "text/plain": [
       "(2919, 80)"
      ]
     },
     "execution_count": 32,
     "metadata": {},
     "output_type": "execute_result"
    }
   ],
   "source": [
    "## backup of original data \n",
    "df_mvi = df.copy()\n",
    "df_mvi.shape"
   ]
  },
  {
   "cell_type": "code",
   "execution_count": 33,
   "id": "690a83ae-672d-40ab-9b26-e3baa9856a9f",
   "metadata": {
    "tags": []
   },
   "outputs": [
    {
     "data": {
      "text/plain": [
       "0"
      ]
     },
     "execution_count": 33,
     "metadata": {},
     "output_type": "execute_result"
    }
   ],
   "source": [
    "MSZoning_mode = df[\"MSZoning\"].mode()[0]\n",
    "df_mvi[\"MSZoning\"].replace(np.nan, MSZoning_mode, inplace = True)\n",
    "df_mvi[\"MSZoning\"].isnull().sum()"
   ]
  },
  {
   "cell_type": "code",
   "execution_count": 34,
   "id": "a6c1e063-e0ae-45e0-83ce-87d8c678d9ae",
   "metadata": {
    "tags": []
   },
   "outputs": [],
   "source": [
    "def oldNewCountplot(df, df_new, feature):\n",
    "    # print(df)\n",
    "    # print(df_new)\n",
    "    # print(feature)\n",
    "    sns.countplot(x=feature,data=df,hue=df_new['MSZoning'])\n",
    "    # plt.subplot(121)\n",
    "    # sns.countplot(df[feature])\n",
    "    # plt.title(\"Old data distrubtion\")\n",
    "    # plt.subplot(122)\n",
    "    # sns.countplot(df_new[feature])\n",
    "    # plt.title(\"New data distrubtion\")\n",
    "    \n"
   ]
  },
  {
   "cell_type": "code",
   "execution_count": 35,
   "id": "415902e0-8581-438a-bbb6-23b7cc1ca570",
   "metadata": {
    "tags": []
   },
   "outputs": [
    {
     "data": {
      "image/png": "[encoded data removed]",
      "text/plain": [
       "<Figure size 640x480 with 1 Axes>"
      ]
     },
     "metadata": {},
     "output_type": "display_data"
    }
   ],
   "source": [
    "oldNewCountplot(df,df_mvi, \"MSZoning\")\n",
    "# oldNewCoounplot("
   ]
  },
  {
   "cell_type": "code",
   "execution_count": 36,
   "id": "84d5ebed-add5-4c94-ad6e-727d27a42dd2",
   "metadata": {
    "tags": []
   },
   "outputs": [],
   "source": [
    "## handling alley"
   ]
  },
  {
   "cell_type": "code",
   "execution_count": 37,
   "id": "ec0a774d-a2d8-4260-a53f-9c5298391c83",
   "metadata": {
    "tags": []
   },
   "outputs": [
    {
     "data": {
      "text/plain": [
       "Alley\n",
       "Grvl    120\n",
       "Pave     78\n",
       "Name: count, dtype: int64"
      ]
     },
     "execution_count": 37,
     "metadata": {},
     "output_type": "execute_result"
    }
   ],
   "source": [
    "df_mvi[\"Alley\"].value_counts()"
   ]
  },
  {
   "cell_type": "code",
   "execution_count": 38,
   "id": "217470e1-4e31-4eb4-b2d1-6b6541c3b294",
   "metadata": {
    "tags": []
   },
   "outputs": [
    {
     "data": {
      "text/plain": [
       "0"
      ]
     },
     "execution_count": 38,
     "metadata": {},
     "output_type": "execute_result"
    }
   ],
   "source": [
    "alley_cont = \"NA\"\n",
    "df_mvi[\"Alley\"].replace(np.nan,alley_cont, inplace = True)\n",
    "df_mvi[\"Alley\"].isnull().sum()\n"
   ]
  },
  {
   "cell_type": "code",
   "execution_count": 39,
   "id": "25d79a02-8bf0-427b-b232-cc64f0854709",
   "metadata": {
    "tags": []
   },
   "outputs": [
    {
     "data": {
      "image/png": "[encoded data removed]",
      "text/plain": [
       "<Figure size 640x480 with 1 Axes>"
      ]
     },
     "metadata": {},
     "output_type": "display_data"
    }
   ],
   "source": [
    "oldNewCountplot(df,df_mvi, \"Alley\")"
   ]
  },
  {
   "cell_type": "code",
   "execution_count": 40,
   "id": "82368928-7f6e-43dc-b25c-5e39295514a5",
   "metadata": {
    "tags": []
   },
   "outputs": [],
   "source": [
    "### handle lotfrontage = 16.64"
   ]
  },
  {
   "cell_type": "code",
   "execution_count": 52,
   "id": "33c75d93-35f1-4eb0-9286-142bb4c85bb3",
   "metadata": {
    "tags": []
   },
   "outputs": [],
   "source": [
    "def boxhistplot(df,figsize = (10,5)):\n",
    "    plt.figure(figsize = figsize)\n",
    "    plt.subplot(121)\n",
    "    plt.boxplot(df)\n",
    "    plt.subplot(122)\n",
    "    sns.histplot(df)"
   ]
  },
  {
   "cell_type": "code",
   "execution_count": 53,
   "id": "5112fa0f-ffa6-4614-9948-a5784a8633fe",
   "metadata": {
    "tags": []
   },
   "outputs": [
    {
     "name": "stderr",
     "output_type": "stream",
     "text": [
      "C:\\Users\\DELL\\anaconda3\\Lib\\site-packages\\seaborn\\_oldcore.py:1119: FutureWarning: use_inf_as_na option is deprecated and will be removed in a future version. Convert inf values to NaN before operating instead.\n",
      "  with pd.option_context('mode.use_inf_as_na', True):\n"
     ]
    },
    {
     "data": {
      "image/png": "[encoded data removed]",
      "text/plain": [
       "<Figure size 1000x500 with 2 Axes>"
      ]
     },
     "metadata": {},
     "output_type": "display_data"
    }
   ],
   "source": [
    "boxhistplot(df[\"LotFrontage\"])"
   ]
  },
  {
   "cell_type": "code",
   "execution_count": 43,
   "id": "1c7c7864-1217-41f6-bebf-087d9ac8d5f4",
   "metadata": {
    "tags": []
   },
   "outputs": [
    {
     "data": {
      "text/plain": [
       "69.30579531442663"
      ]
     },
     "execution_count": 43,
     "metadata": {},
     "output_type": "execute_result"
    }
   ],
   "source": [
    "lotfrontage_mean = df[\"LotFrontage\"].mean()\n",
    "lotfrontage_mean"
   ]
  },
  {
   "cell_type": "code",
   "execution_count": 44,
   "id": "0892b000-5209-48b5-a752-1d61e6dfb93f",
   "metadata": {
    "tags": []
   },
   "outputs": [
    {
     "data": {
      "text/plain": [
       "0"
      ]
     },
     "execution_count": 44,
     "metadata": {},
     "output_type": "execute_result"
    }
   ],
   "source": [
    "df_mvi[\"LotFrontage\"].replace(np.nan, lotfrontage_mean, inplace = True)\n",
    "df_mvi[\"LotFrontage\"].isnull().sum()"
   ]
  },
  {
   "cell_type": "code",
   "execution_count": 64,
   "id": "f52f930c-98c2-4cfc-89ab-c02639a5424f",
   "metadata": {
    "tags": []
   },
   "outputs": [],
   "source": [
    "def oldNewBoxHistplot(df, df_new, feature):\n",
    "    plt.subplot(221)\n",
    "    sns.boxplot(df[feature])\n",
    "    plt.title(\"Old data distrubtion\")\n",
    "    plt.subplot(222)\n",
    "    sns.distplot(df[feature])\n",
    "    plt.title(\"old data distrubtion\")\n",
    "    plt.subplot(223)\n",
    "    sns.boxplot(df_new[feature])\n",
    "    plt.title(\"new data distrubtion\")\n",
    "    plt.subplot(222)\n",
    "    sns.distplot(df_new[feature])\n",
    "    plt.title(\"New data distrubtion\")"
   ]
  },
  {
   "cell_type": "code",
   "execution_count": 65,
   "id": "a5534cc8-4f95-4c7e-bfd3-b4bae22dea0c",
   "metadata": {
    "tags": []
   },
   "outputs": [
    {
     "ename": "KeyError",
     "evalue": "0",
     "output_type": "error",
     "traceback": [
      "\u001b[1;31m---------------------------------------------------------------------------\u001b[0m",
      "\u001b[1;31mKeyError\u001b[0m                                  Traceback (most recent call last)",
      "File \u001b[1;32m~\\anaconda3\\Lib\\site-packages\\pandas\\core\\indexes\\base.py:3791\u001b[0m, in \u001b[0;36mIndex.get_loc\u001b[1;34m(self, key)\u001b[0m\n\u001b[0;32m   3790\u001b[0m \u001b[38;5;28;01mtry\u001b[39;00m:\n\u001b[1;32m-> 3791\u001b[0m     \u001b[38;5;28;01mreturn\u001b[39;00m \u001b[38;5;28mself\u001b[39m\u001b[38;5;241m.\u001b[39m_engine\u001b[38;5;241m.\u001b[39mget_loc(casted_key)\n\u001b[0;32m   3792\u001b[0m \u001b[38;5;28;01mexcept\u001b[39;00m \u001b[38;5;167;01mKeyError\u001b[39;00m \u001b[38;5;28;01mas\u001b[39;00m err:\n",
      "File \u001b[1;32mindex.pyx:152\u001b[0m, in \u001b[0;36mpandas._libs.index.IndexEngine.get_loc\u001b[1;34m()\u001b[0m\n",
      "File \u001b[1;32mindex.pyx:181\u001b[0m, in \u001b[0;36mpandas._libs.index.IndexEngine.get_loc\u001b[1;34m()\u001b[0m\n",
      "File \u001b[1;32mpandas\\_libs\\hashtable_class_helper.pxi:2606\u001b[0m, in \u001b[0;36mpandas._libs.hashtable.Int64HashTable.get_item\u001b[1;34m()\u001b[0m\n",
      "File \u001b[1;32mpandas\\_libs\\hashtable_class_helper.pxi:2630\u001b[0m, in \u001b[0;36mpandas._libs.hashtable.Int64HashTable.get_item\u001b[1;34m()\u001b[0m\n",
      "\u001b[1;31mKeyError\u001b[0m: 0",
      "\nThe above exception was the direct cause of the following exception:\n",
      "\u001b[1;31mKeyError\u001b[0m                                  Traceback (most recent call last)",
      "Cell \u001b[1;32mIn[65], line 1\u001b[0m\n\u001b[1;32m----> 1\u001b[0m oldNewBoxHistplot(df, df_mvi, \u001b[38;5;124m\"\u001b[39m\u001b[38;5;124mLotFrontage\u001b[39m\u001b[38;5;124m\"\u001b[39m)\n",
      "Cell \u001b[1;32mIn[64], line 3\u001b[0m, in \u001b[0;36moldNewBoxHistplot\u001b[1;34m(df, df_new, feature)\u001b[0m\n\u001b[0;32m      1\u001b[0m \u001b[38;5;28;01mdef\u001b[39;00m \u001b[38;5;21moldNewBoxHistplot\u001b[39m(df, df_new, feature):\n\u001b[0;32m      2\u001b[0m     plt\u001b[38;5;241m.\u001b[39msubplot(\u001b[38;5;241m221\u001b[39m)\n\u001b[1;32m----> 3\u001b[0m     sns\u001b[38;5;241m.\u001b[39mboxplot(df[feature])\n\u001b[0;32m      4\u001b[0m     plt\u001b[38;5;241m.\u001b[39mtitle(\u001b[38;5;124m\"\u001b[39m\u001b[38;5;124mOld data distrubtion\u001b[39m\u001b[38;5;124m\"\u001b[39m)\n\u001b[0;32m      5\u001b[0m     plt\u001b[38;5;241m.\u001b[39msubplot(\u001b[38;5;241m222\u001b[39m)\n",
      "File \u001b[1;32m~\\anaconda3\\Lib\\site-packages\\seaborn\\categorical.py:2231\u001b[0m, in \u001b[0;36mboxplot\u001b[1;34m(data, x, y, hue, order, hue_order, orient, color, palette, saturation, width, dodge, fliersize, linewidth, whis, ax, **kwargs)\u001b[0m\n\u001b[0;32m   2224\u001b[0m \u001b[38;5;28;01mdef\u001b[39;00m \u001b[38;5;21mboxplot\u001b[39m(\n\u001b[0;32m   2225\u001b[0m     data\u001b[38;5;241m=\u001b[39m\u001b[38;5;28;01mNone\u001b[39;00m, \u001b[38;5;241m*\u001b[39m, x\u001b[38;5;241m=\u001b[39m\u001b[38;5;28;01mNone\u001b[39;00m, y\u001b[38;5;241m=\u001b[39m\u001b[38;5;28;01mNone\u001b[39;00m, hue\u001b[38;5;241m=\u001b[39m\u001b[38;5;28;01mNone\u001b[39;00m, order\u001b[38;5;241m=\u001b[39m\u001b[38;5;28;01mNone\u001b[39;00m, hue_order\u001b[38;5;241m=\u001b[39m\u001b[38;5;28;01mNone\u001b[39;00m,\n\u001b[0;32m   2226\u001b[0m     orient\u001b[38;5;241m=\u001b[39m\u001b[38;5;28;01mNone\u001b[39;00m, color\u001b[38;5;241m=\u001b[39m\u001b[38;5;28;01mNone\u001b[39;00m, palette\u001b[38;5;241m=\u001b[39m\u001b[38;5;28;01mNone\u001b[39;00m, saturation\u001b[38;5;241m=\u001b[39m\u001b[38;5;241m.75\u001b[39m, width\u001b[38;5;241m=\u001b[39m\u001b[38;5;241m.8\u001b[39m,\n\u001b[0;32m   2227\u001b[0m     dodge\u001b[38;5;241m=\u001b[39m\u001b[38;5;28;01mTrue\u001b[39;00m, fliersize\u001b[38;5;241m=\u001b[39m\u001b[38;5;241m5\u001b[39m, linewidth\u001b[38;5;241m=\u001b[39m\u001b[38;5;28;01mNone\u001b[39;00m, whis\u001b[38;5;241m=\u001b[39m\u001b[38;5;241m1.5\u001b[39m, ax\u001b[38;5;241m=\u001b[39m\u001b[38;5;28;01mNone\u001b[39;00m,\n\u001b[0;32m   2228\u001b[0m     \u001b[38;5;241m*\u001b[39m\u001b[38;5;241m*\u001b[39mkwargs\n\u001b[0;32m   2229\u001b[0m ):\n\u001b[1;32m-> 2231\u001b[0m     plotter \u001b[38;5;241m=\u001b[39m _BoxPlotter(x, y, hue, data, order, hue_order,\n\u001b[0;32m   2232\u001b[0m                           orient, color, palette, saturation,\n\u001b[0;32m   2233\u001b[0m                           width, dodge, fliersize, linewidth)\n\u001b[0;32m   2235\u001b[0m     \u001b[38;5;28;01mif\u001b[39;00m ax \u001b[38;5;129;01mis\u001b[39;00m \u001b[38;5;28;01mNone\u001b[39;00m:\n\u001b[0;32m   2236\u001b[0m         ax \u001b[38;5;241m=\u001b[39m plt\u001b[38;5;241m.\u001b[39mgca()\n",
      "File \u001b[1;32m~\\anaconda3\\Lib\\site-packages\\seaborn\\categorical.py:785\u001b[0m, in \u001b[0;36m_BoxPlotter.__init__\u001b[1;34m(self, x, y, hue, data, order, hue_order, orient, color, palette, saturation, width, dodge, fliersize, linewidth)\u001b[0m\n\u001b[0;32m    781\u001b[0m \u001b[38;5;28;01mdef\u001b[39;00m \u001b[38;5;21m__init__\u001b[39m(\u001b[38;5;28mself\u001b[39m, x, y, hue, data, order, hue_order,\n\u001b[0;32m    782\u001b[0m              orient, color, palette, saturation,\n\u001b[0;32m    783\u001b[0m              width, dodge, fliersize, linewidth):\n\u001b[1;32m--> 785\u001b[0m     \u001b[38;5;28mself\u001b[39m\u001b[38;5;241m.\u001b[39mestablish_variables(x, y, hue, data, orient, order, hue_order)\n\u001b[0;32m    786\u001b[0m     \u001b[38;5;28mself\u001b[39m\u001b[38;5;241m.\u001b[39mestablish_colors(color, palette, saturation)\n\u001b[0;32m    788\u001b[0m     \u001b[38;5;28mself\u001b[39m\u001b[38;5;241m.\u001b[39mdodge \u001b[38;5;241m=\u001b[39m dodge\n",
      "File \u001b[1;32m~\\anaconda3\\Lib\\site-packages\\seaborn\\categorical.py:486\u001b[0m, in \u001b[0;36m_CategoricalPlotter.establish_variables\u001b[1;34m(self, x, y, hue, data, orient, order, hue_order, units)\u001b[0m\n\u001b[0;32m    484\u001b[0m \u001b[38;5;28;01mif\u001b[39;00m \u001b[38;5;28mhasattr\u001b[39m(data, \u001b[38;5;124m\"\u001b[39m\u001b[38;5;124mshape\u001b[39m\u001b[38;5;124m\"\u001b[39m):\n\u001b[0;32m    485\u001b[0m     \u001b[38;5;28;01mif\u001b[39;00m \u001b[38;5;28mlen\u001b[39m(data\u001b[38;5;241m.\u001b[39mshape) \u001b[38;5;241m==\u001b[39m \u001b[38;5;241m1\u001b[39m:\n\u001b[1;32m--> 486\u001b[0m         \u001b[38;5;28;01mif\u001b[39;00m np\u001b[38;5;241m.\u001b[39misscalar(data[\u001b[38;5;241m0\u001b[39m]):\n\u001b[0;32m    487\u001b[0m             plot_data \u001b[38;5;241m=\u001b[39m [data]\n\u001b[0;32m    488\u001b[0m         \u001b[38;5;28;01melse\u001b[39;00m:\n",
      "File \u001b[1;32m~\\anaconda3\\Lib\\site-packages\\pandas\\core\\series.py:1040\u001b[0m, in \u001b[0;36mSeries.__getitem__\u001b[1;34m(self, key)\u001b[0m\n\u001b[0;32m   1037\u001b[0m     \u001b[38;5;28;01mreturn\u001b[39;00m \u001b[38;5;28mself\u001b[39m\u001b[38;5;241m.\u001b[39m_values[key]\n\u001b[0;32m   1039\u001b[0m \u001b[38;5;28;01melif\u001b[39;00m key_is_scalar:\n\u001b[1;32m-> 1040\u001b[0m     \u001b[38;5;28;01mreturn\u001b[39;00m \u001b[38;5;28mself\u001b[39m\u001b[38;5;241m.\u001b[39m_get_value(key)\n\u001b[0;32m   1042\u001b[0m \u001b[38;5;66;03m# Convert generator to list before going through hashable part\u001b[39;00m\n\u001b[0;32m   1043\u001b[0m \u001b[38;5;66;03m# (We will iterate through the generator there to check for slices)\u001b[39;00m\n\u001b[0;32m   1044\u001b[0m \u001b[38;5;28;01mif\u001b[39;00m is_iterator(key):\n",
      "File \u001b[1;32m~\\anaconda3\\Lib\\site-packages\\pandas\\core\\series.py:1156\u001b[0m, in \u001b[0;36mSeries._get_value\u001b[1;34m(self, label, takeable)\u001b[0m\n\u001b[0;32m   1153\u001b[0m     \u001b[38;5;28;01mreturn\u001b[39;00m \u001b[38;5;28mself\u001b[39m\u001b[38;5;241m.\u001b[39m_values[label]\n\u001b[0;32m   1155\u001b[0m \u001b[38;5;66;03m# Similar to Index.get_value, but we do not fall back to positional\u001b[39;00m\n\u001b[1;32m-> 1156\u001b[0m loc \u001b[38;5;241m=\u001b[39m \u001b[38;5;28mself\u001b[39m\u001b[38;5;241m.\u001b[39mindex\u001b[38;5;241m.\u001b[39mget_loc(label)\n\u001b[0;32m   1158\u001b[0m \u001b[38;5;28;01mif\u001b[39;00m is_integer(loc):\n\u001b[0;32m   1159\u001b[0m     \u001b[38;5;28;01mreturn\u001b[39;00m \u001b[38;5;28mself\u001b[39m\u001b[38;5;241m.\u001b[39m_values[loc]\n",
      "File \u001b[1;32m~\\anaconda3\\Lib\\site-packages\\pandas\\core\\indexes\\base.py:3798\u001b[0m, in \u001b[0;36mIndex.get_loc\u001b[1;34m(self, key)\u001b[0m\n\u001b[0;32m   3793\u001b[0m     \u001b[38;5;28;01mif\u001b[39;00m \u001b[38;5;28misinstance\u001b[39m(casted_key, \u001b[38;5;28mslice\u001b[39m) \u001b[38;5;129;01mor\u001b[39;00m (\n\u001b[0;32m   3794\u001b[0m         \u001b[38;5;28misinstance\u001b[39m(casted_key, abc\u001b[38;5;241m.\u001b[39mIterable)\n\u001b[0;32m   3795\u001b[0m         \u001b[38;5;129;01mand\u001b[39;00m \u001b[38;5;28many\u001b[39m(\u001b[38;5;28misinstance\u001b[39m(x, \u001b[38;5;28mslice\u001b[39m) \u001b[38;5;28;01mfor\u001b[39;00m x \u001b[38;5;129;01min\u001b[39;00m casted_key)\n\u001b[0;32m   3796\u001b[0m     ):\n\u001b[0;32m   3797\u001b[0m         \u001b[38;5;28;01mraise\u001b[39;00m InvalidIndexError(key)\n\u001b[1;32m-> 3798\u001b[0m     \u001b[38;5;28;01mraise\u001b[39;00m \u001b[38;5;167;01mKeyError\u001b[39;00m(key) \u001b[38;5;28;01mfrom\u001b[39;00m \u001b[38;5;21;01merr\u001b[39;00m\n\u001b[0;32m   3799\u001b[0m \u001b[38;5;28;01mexcept\u001b[39;00m \u001b[38;5;167;01mTypeError\u001b[39;00m:\n\u001b[0;32m   3800\u001b[0m     \u001b[38;5;66;03m# If we have a listlike key, _check_indexing_error will raise\u001b[39;00m\n\u001b[0;32m   3801\u001b[0m     \u001b[38;5;66;03m#  InvalidIndexError. Otherwise we fall through and re-raise\u001b[39;00m\n\u001b[0;32m   3802\u001b[0m     \u001b[38;5;66;03m#  the TypeError.\u001b[39;00m\n\u001b[0;32m   3803\u001b[0m     \u001b[38;5;28mself\u001b[39m\u001b[38;5;241m.\u001b[39m_check_indexing_error(key)\n",
      "\u001b[1;31mKeyError\u001b[0m: 0"
     ]
    },
    {
     "data": {
      "image/png": "[encoded data removed]",
      "text/plain": [
       "<Figure size 640x480 with 1 Axes>"
      ]
     },
     "metadata": {},
     "output_type": "display_data"
    }
   ],
   "source": [
    "oldNewBoxHistplot(df, df_mvi, \"LotFrontage\")"
   ]
  },
  {
   "cell_type": "code",
   "execution_count": null,
   "id": "0da351df-09b0-4591-8479-5ca8595a2cf4",
   "metadata": {},
   "outputs": [],
   "source": [
    "###  handling utilities\n",
    "df[\"Utilities\"].value_counts()"
   ]
  },
  {
   "cell_type": "code",
   "execution_count": null,
   "id": "3a83b918-78a9-4f7d-8a99-31944fa08a9c",
   "metadata": {
    "tags": []
   },
   "outputs": [],
   "source": [
    "utilities_mode =df[\"Utilities\"].mode()[0]\n",
    "df_mvi[\"Utilities\"].replace(np.nan, utilities_mode, inplace = True)\n",
    "df_mvi[\"Utilities\"].isnull().sum()"
   ]
  },
  {
   "cell_type": "code",
   "execution_count": null,
   "id": "a4e1a3b2-9d39-46ec-b58e-68dbb199dd35",
   "metadata": {
    "tags": []
   },
   "outputs": [],
   "source": [
    "### handle  Exterior1st and Exterior2nd \n",
    "df[\"Exterior1st\"].value_counts()"
   ]
  },
  {
   "cell_type": "code",
   "execution_count": null,
   "id": "3baf55e9-5745-44fd-a9bf-5fad8812a4a8",
   "metadata": {
    "tags": []
   },
   "outputs": [],
   "source": [
    "df[\"Exterior2nd\"].value_counts()"
   ]
  },
  {
   "cell_type": "code",
   "execution_count": null,
   "id": "e3780e45-e8da-4b28-86a4-9ee0a7824e6d",
   "metadata": {
    "tags": []
   },
   "outputs": [],
   "source": [
    "exterior1st_mode =df[\"Exterior1st\"].mode()[0]\n",
    "exterior2nd_mode =df[\"Exterior2nd\"].mode()[0]\n",
    "df_mvi[\"Exterior1st\"].replace(np.nan, exterior1st_mode, inplace = True)\n",
    "df_mvi[\"Exterior2nd\"].replace(np.nan, exterior2nd_mode, inplace = True)\n",
    "print(\"elst 1st \",df_mvi[\"Exterior1st\"].isnull().sum())\n",
    "print(\"elst 2nd \",df_mvi[\"Exterior2nd\"].isnull().sum())"
   ]
  },
  {
   "cell_type": "code",
   "execution_count": null,
   "id": "e413334c-71d5-4fca-b643-18393e474c0f",
   "metadata": {
    "tags": []
   },
   "outputs": [],
   "source": [
    "####MasVnrType MasVnrArea\n",
    "sns.heatmap(df[[\"MasVnrType\", \"MasVnrArea\"]].isnull())"
   ]
  },
  {
   "cell_type": "code",
   "execution_count": null,
   "id": "3cb92af8-e060-410d-9957-acd7b8f456c3",
   "metadata": {
    "tags": []
   },
   "outputs": [],
   "source": [
    "df[df[[\"MasVnrType\", \"MasVnrArea\"]].isnull()]"
   ]
  },
  {
   "cell_type": "code",
   "execution_count": null,
   "id": "6e24926a-4ace-46dd-bccf-0f68e14dedbc",
   "metadata": {
    "tags": []
   },
   "outputs": [],
   "source": [
    "df[\"MasVnrType\"].value_counts()"
   ]
  },
  {
   "cell_type": "code",
   "execution_count": null,
   "id": "30bd1ca6-4b62-42fb-ac09-43a06fbbee10",
   "metadata": {
    "tags": []
   },
   "outputs": [],
   "source": [
    "masVnrType_mode =df[\"MasVnrType\"].mode()[0]\n",
    "df_mvi[\"MasVnrType\"].replace(np.nan,masVnrType_mode, inplace = True)\n",
    "df_mvi[\"MasVnrType\"].isnull().sum()"
   ]
  },
  {
   "cell_type": "code",
   "execution_count": null,
   "id": "de1dfde8-2c19-43d6-a30e-3c2035cec429",
   "metadata": {
    "tags": []
   },
   "outputs": [],
   "source": [
    "boxhistplot(df[\"MasVnrArea\"])"
   ]
  },
  {
   "cell_type": "code",
   "execution_count": null,
   "id": "fe10e535-0544-4714-af63-5c314d124613",
   "metadata": {
    "tags": []
   },
   "outputs": [],
   "source": [
    "masVnrArea_cont= 0\n",
    "df_mvi[\"MasVnrArea\"].replace(np.nan,masVnrArea_cont, inplace = True)\n",
    "df_mvi[\"MasVnrArea\"].isnull().sum()"
   ]
  },
  {
   "cell_type": "markdown",
   "id": "33521675-20b1-4633-ad8b-8c541e81cc9a",
   "metadata": {},
   "source": [
    "## handling bsmt "
   ]
  },
  {
   "cell_type": "code",
   "execution_count": null,
   "id": "329d926d-70e2-4ec5-90e8-10e50a1018ad",
   "metadata": {
    "tags": []
   },
   "outputs": [],
   "source": [
    "cat_bsmt_feat =[ \n",
    "\"BsmtQual\",       \n",
    "\"BsmtCond\",     \n",
    "\"BsmtExposure\",     \n",
    "\"BsmtFinType1\",     \n",
    "\"BsmtFinType2\" ]\n",
    "\n",
    "num_bsmt_feat =[\n",
    "\"BsmtFinSF1\",\n",
    "\"BsmtFinSF2\",       \n",
    "\"BsmtUnfSF\" ,       \n",
    "\"TotalBsmtSF\",      \n",
    "\"BsmtFullBath\",     \n",
    "\"BsmtHalfBath\" \n",
    "]"
   ]
  },
  {
   "cell_type": "code",
   "execution_count": null,
   "id": "6c65f302-436c-4ea9-8b43-98ab25b7d675",
   "metadata": {
    "tags": []
   },
   "outputs": [],
   "source": [
    "sns.heatmap(df[cat_bsmt_feat].isnull())"
   ]
  },
  {
   "cell_type": "code",
   "execution_count": null,
   "id": "00853e59-8061-4669-b263-5c4f7d0a0533",
   "metadata": {
    "tags": []
   },
   "outputs": [],
   "source": [
    "for feat in cat_bsmt_feat:\n",
    "    print(f\"value count of (feat): {df[feat].value_counts()}\") "
   ]
  },
  {
   "cell_type": "code",
   "execution_count": null,
   "id": "a2600d74-4bda-4023-be70-3f805c6f39e4",
   "metadata": {
    "tags": []
   },
   "outputs": [],
   "source": [
    "bsmt_cont= \"NA\"\n",
    "for feat in cat_bsmt_feat:\n",
    "    df_mvi[feat].replace(np.nan, bsmt_cont, inplace = True)"
   ]
  },
  {
   "cell_type": "code",
   "execution_count": null,
   "id": "8a7d07f7-e777-4ad8-9676-32ddec9a209f",
   "metadata": {
    "tags": []
   },
   "outputs": [],
   "source": [
    "df_mvi[cat_bsmt_feat].isnull().sum()"
   ]
  },
  {
   "cell_type": "code",
   "execution_count": null,
   "id": "bccc0398-99b6-4451-bc3b-2cf5e5fd5c19",
   "metadata": {
    "tags": []
   },
   "outputs": [],
   "source": [
    "sns.heatmap(df[num_bsmt_feat].isnull())"
   ]
  },
  {
   "cell_type": "code",
   "execution_count": null,
   "id": "4265bac6-6e91-442a-b58d-f1df2633f098",
   "metadata": {
    "tags": []
   },
   "outputs": [],
   "source": [
    "bsmt_num= 0\n",
    "for feat in num_bsmt_feat:\n",
    "    df_mvi[feat].replace(np.nan, bsmt_num, inplace = True)"
   ]
  },
  {
   "cell_type": "code",
   "execution_count": null,
   "id": "4fb5a7f0-b052-4d81-bd57-ef95ceceeae5",
   "metadata": {
    "tags": []
   },
   "outputs": [],
   "source": [
    "df_mvi[num_bsmt_feat].isnull().sum()"
   ]
  },
  {
   "cell_type": "code",
   "execution_count": null,
   "id": "8f27ee2c-6b3e-4d61-83d2-26098a7a2783",
   "metadata": {
    "tags": []
   },
   "outputs": [],
   "source": [
    "## handling Electrical       and kitchenQual"
   ]
  },
  {
   "cell_type": "code",
   "execution_count": null,
   "id": "852fc407-0600-421a-adc6-ef091de20ea5",
   "metadata": {
    "tags": []
   },
   "outputs": [],
   "source": [
    "df[\"Electrical\"].value_counts()"
   ]
  },
  {
   "cell_type": "code",
   "execution_count": null,
   "id": "ab471f69-4bd3-4bb9-899b-0e144c3bed1f",
   "metadata": {
    "tags": []
   },
   "outputs": [],
   "source": [
    "df[\"KitchenQual\"].value_counts()"
   ]
  },
  {
   "cell_type": "code",
   "execution_count": null,
   "id": "8146a255-7c3e-448d-a1aa-4edc7366ecd8",
   "metadata": {
    "tags": []
   },
   "outputs": [],
   "source": [
    "df_ekk = df[[\"Electrical\",\"KitchenQual\",\"KitchenAbvGr\" ]]\n",
    "df_ekk[df_ekk.isnull().any(axis = 1)]"
   ]
  },
  {
   "cell_type": "code",
   "execution_count": null,
   "id": "7db57391-cdfe-4ecb-962a-0dd61997a38a",
   "metadata": {
    "tags": []
   },
   "outputs": [],
   "source": [
    "Electrical_mode =df[\"Electrical\"].mode()[0]\n",
    "df_mvi[\"Electrical\"].replace(np.nan,Electrical_mode, inplace = True)\n",
    "df_mvi[\"Electrical\"].isnull().sum()"
   ]
  },
  {
   "cell_type": "code",
   "execution_count": null,
   "id": "8d919a62-ca06-435b-9be0-49f69b31564f",
   "metadata": {
    "tags": []
   },
   "outputs": [],
   "source": [
    "KitchenQual_mode =df[\"KitchenQual\"].mode()[0]\n",
    "df_mvi[\"KitchenQual\"].replace(np.nan,KitchenQual_mode, inplace = True)\n",
    "df_mvi[\"KitchenQual\"].isnull().sum()"
   ]
  },
  {
   "cell_type": "code",
   "execution_count": null,
   "id": "2a4ea0f4-24ad-496e-8e6e-fe8e059ff44a",
   "metadata": {
    "tags": []
   },
   "outputs": [],
   "source": [
    "\n",
    "Functional\n",
    "FireplaceQu  \n",
    "PoolQC\n",
    "Fence        \n",
    "MiscFeature\n",
    "\n",
    "SaleType      "
   ]
  },
  {
   "cell_type": "code",
   "execution_count": null,
   "id": "511ed100-6b53-4e24-b07e-0f179abaf8b0",
   "metadata": {
    "tags": []
   },
   "outputs": [],
   "source": [
    "df[\"Functional\"].value_counts()"
   ]
  },
  {
   "cell_type": "code",
   "execution_count": null,
   "id": "982645fe-4b01-4f58-b822-1182db47a58c",
   "metadata": {
    "tags": []
   },
   "outputs": [],
   "source": [
    "df[\"SaleType\"].value_counts()"
   ]
  },
  {
   "cell_type": "code",
   "execution_count": null,
   "id": "0e741d41-f75d-4646-b851-0984fc3b879c",
   "metadata": {
    "tags": []
   },
   "outputs": [],
   "source": [
    "Functional_mode =df[\"Functional\"].mode()[0]\n",
    "df_mvi[\"Functional\"].replace(np.nan,Functional_mode, inplace = True)\n",
    "df_mvi[\"Functional\"].isnull().sum()"
   ]
  },
  {
   "cell_type": "code",
   "execution_count": null,
   "id": "66a4d2c5-2999-4212-ba4d-68c0023d8371",
   "metadata": {
    "tags": []
   },
   "outputs": [],
   "source": [
    "SaleType_mode =df[\"SaleType\"].mode()[0]\n",
    "df_mvi[\"SaleType\"].replace(np.nan,SaleType_mode, inplace = True)\n",
    "df_mvi[\"SaleType\"].isnull().sum()"
   ]
  },
  {
   "cell_type": "code",
   "execution_count": null,
   "id": "5f6ed016-c630-4c11-a9eb-667b5baca499",
   "metadata": {
    "tags": []
   },
   "outputs": [],
   "source": [
    "other_cat_feat = [\"FireplaceQu\"  ,\n",
    "\"PoolQC\",\n",
    "\"Fence\"  ,      \n",
    "\"MiscFeature\"]\n",
    "for feat in other_cat_feat:\n",
    "        print(f\"value count of (feat): {df[feat].value_counts()}\") "
   ]
  },
  {
   "cell_type": "code",
   "execution_count": null,
   "id": "30f332f1-e0bc-4d8c-9080-3ba2596e54fb",
   "metadata": {
    "tags": []
   },
   "outputs": [],
   "source": [
    "FireplaceQu_mode=\"NA\"\n",
    "df_mvi[\"FireplaceQu\"].replace(np.nan,FireplaceQu_mode, inplace = True)\n",
    "df_mvi[\"FireplaceQu\"].isnull().sum()"
   ]
  },
  {
   "cell_type": "code",
   "execution_count": null,
   "id": "128e2746-fbcd-4ef7-9e37-bf98f38af2eb",
   "metadata": {
    "tags": []
   },
   "outputs": [],
   "source": [
    "PoolQC_mode=\"NA\"\n",
    "df_mvi[\"PoolQC\"].replace(np.nan,PoolQC_mode, inplace = True)\n",
    "df_mvi[\"PoolQC\"].isnull().sum()"
   ]
  },
  {
   "cell_type": "code",
   "execution_count": null,
   "id": "a89ee14e-3883-474e-8a03-08989650ee93",
   "metadata": {
    "tags": []
   },
   "outputs": [],
   "source": [
    "Fence_mode=\"NA\"\n",
    "df_mvi[\"Fence\"].replace(np.nan,Fence_mode, inplace = True)\n",
    "df_mvi[\"Fence\"].isnull().sum()"
   ]
  },
  {
   "cell_type": "code",
   "execution_count": null,
   "id": "c89e8005-6d71-4f8c-8fb8-4e18386d35b1",
   "metadata": {
    "tags": []
   },
   "outputs": [],
   "source": [
    "MiscFeature_mode=\"NA\"\n",
    "df_mvi[\"MiscFeature\"].replace(np.nan,MiscFeature_mode, inplace = True)\n",
    "df_mvi[\"MiscFeature\"].isnull().sum()"
   ]
  },
  {
   "cell_type": "code",
   "execution_count": null,
   "id": "21da70f6-351d-4295-a3fb-16e97049ee04",
   "metadata": {},
   "outputs": [],
   "source": [
    "GarageType       \n",
    "GarageYrBlt     \n",
    "GarageFinish     \n",
    "GarageCars      \n",
    "GarageArea     \n",
    "GarageQual      \n",
    "GarageCond     "
   ]
  },
  {
   "cell_type": "code",
   "execution_count": null,
   "id": "146b973c-c9f3-40ac-b8a6-befac21d74f7",
   "metadata": {
    "tags": []
   },
   "outputs": [],
   "source": [
    "cat_garage_feat = [\"GarageFinish\",\"GarageArea\",\"GarageQual\",\"GarageCond\"]\n",
    "num_garage_feat = [\"GarageType\",\"GarageYrBlt\",\"GarageCars\"]\n",
    "\n",
    "df_garage = df[num_garage_feat  +  cat_garage_feat]\n",
    "df_garage[df_garage.isnull().any(axis = 1)]"
   ]
  },
  {
   "cell_type": "code",
   "execution_count": null,
   "id": "52a6601e-0b89-4829-91e3-19691ba9e05d",
   "metadata": {
    "tags": []
   },
   "outputs": [],
   "source": [
    "garage_cont = \"NA\"\n",
    "for feat in cat_garage_feat:\n",
    "    df_mvi[feat].replace(np.nan, garage_cont, inplace = True)\n",
    "df_mvi[cat_garage_feat].isnull().sum()"
   ]
  },
  {
   "cell_type": "code",
   "execution_count": null,
   "id": "0acc1be4-f28b-41eb-b6d3-ab5e3b324896",
   "metadata": {
    "tags": []
   },
   "outputs": [],
   "source": [
    "garage_num = 0\n",
    "for feat in num_garage_feat:\n",
    "    df_mvi[feat].replace(np.nan, garage_num, inplace = True)\n",
    "df_mvi[num_garage_feat].isnull().sum()"
   ]
  },
  {
   "cell_type": "code",
   "execution_count": null,
   "id": "54a665cf-ae49-4750-8a54-41cc2532afeb",
   "metadata": {
    "tags": []
   },
   "outputs": [],
   "source": [
    "df_mvi.isnull().any(axis = 1).sum()"
   ]
  },
  {
   "cell_type": "markdown",
   "id": "107ca7be-05f0-4b04-89a4-52d84b991aa4",
   "metadata": {},
   "source": [
    "# Features Transformation"
   ]
  },
  {
   "cell_type": "markdown",
   "id": "4c717953-4991-474a-85da-c189032108a3",
   "metadata": {},
   "source": [
    "# convert numfeat to catfeat"
   ]
  },
  {
   "cell_type": "code",
   "execution_count": null,
   "id": "cda5cd9a-2f13-4086-af8c-9cc681e059af",
   "metadata": {
    "tags": []
   },
   "outputs": [],
   "source": [
    "for_num_conv = [\"MSSubClass\", \"YearBuilt\", \"YearRemodAdd\",  \"GarageYrBlt\", \"MoSold\", \"YrSold\"]\n",
    "for feat in for_num_conv:\n",
    "    print(f\"{feat}: dat type = {df_mvi[feat].dtype}\")"
   ]
  },
  {
   "cell_type": "code",
   "execution_count": null,
   "id": "67766f59-0c18-4125-a490-9fe8818d7788",
   "metadata": {
    "tags": []
   },
   "outputs": [],
   "source": [
    "df_mvi[for_num_conv].head()"
   ]
  },
  {
   "cell_type": "code",
   "execution_count": null,
   "id": "1d89a7c5-4edd-4826-aa8d-8eaaa775d492",
   "metadata": {
    "tags": []
   },
   "outputs": [],
   "source": [
    "df_mvi[\"MoSold\"].unique()"
   ]
  },
  {
   "cell_type": "code",
   "execution_count": null,
   "id": "9a6c97ad-dacb-42ec-8b80-3563001b791e",
   "metadata": {
    "tags": []
   },
   "outputs": [],
   "source": [
    "calendar.month_abbr[12]"
   ]
  },
  {
   "cell_type": "code",
   "execution_count": null,
   "id": "17e63cd6-79ce-4f9c-9883-04e37462b45f",
   "metadata": {
    "tags": []
   },
   "outputs": [],
   "source": [
    "df_mvi[\"MoSold\"] = df_mvi[\"MoSold\"].apply(lambda x :calendar.month_abbr[x] )\n",
    "df_mvi[\"MoSold\"].unique()\n"
   ]
  },
  {
   "cell_type": "code",
   "execution_count": null,
   "id": "66925698-5c5f-44b3-96b5-680672a9fb5b",
   "metadata": {
    "tags": []
   },
   "outputs": [],
   "source": [
    "for feat in for_num_conv:\n",
    "    df_mvi[feat] = df_mvi[feat].astype(str)"
   ]
  },
  {
   "cell_type": "code",
   "execution_count": null,
   "id": "3bcb1b6c-0d85-45b3-b309-a91597389161",
   "metadata": {
    "tags": []
   },
   "outputs": [],
   "source": [
    "for feat in for_num_conv:\n",
    "    print(f\"{feat}: dat type = {df_mvi[feat].dtype}\")"
   ]
  },
  {
   "cell_type": "markdown",
   "id": "1f599c9d-3f44-4ccc-aa0f-9b94ecb33493",
   "metadata": {},
   "source": [
    "# convert catfeat to num feat"
   ]
  },
  {
   "cell_type": "code",
   "execution_count": null,
   "id": "31354443-c060-4369-9344-89d8e62bd6b3",
   "metadata": {
    "tags": []
   },
   "outputs": [],
   "source": [
    "# ordinal encoding"
   ]
  },
  {
   "cell_type": "code",
   "execution_count": null,
   "id": "8ce24990-1443-4666-a8a7-fd0f71a78a83",
   "metadata": {
    "tags": []
   },
   "outputs": [],
   "source": [
    "ordinal_end_var = [\n",
    "\"Utilities\",\n",
    "\"BsmtQual\",         \n",
    "\"BsmtCond\",        \n",
    "\"BsmtExposure\",     \n",
    "\"BsmtFinType1\",    \n",
    "\"BsmtFinSF1\",       \n",
    "\"BsmtFinType2\",   \n",
    "\"KitchenQual\",     \n",
    "\"Functional\",      \n",
    "\"FireplaceQu\",     \n",
    "\"GarageFinish\",     \n",
    "\"GarageQual\",     \n",
    "\"GarageCond\",  \n",
    "\"PoolQC\",\n",
    "\"ExterQual\",\n",
    "\"ExterCond\",\n",
    "\"HeatingQC\",\n",
    "\"PavedDrive\"\n",
    "]\n",
    "print(\"Total number of features :\", len(ordinal_end_var))"
   ]
  },
  {
   "cell_type": "code",
   "execution_count": null,
   "id": "acf05e9c-5f96-4ce0-b731-225eff0de944",
   "metadata": {},
   "outputs": [],
   "source": [
    "df_mvi[\"ExterQual\"] = df_mvi[\"ExterQual\"].astype(CategoricalDtype(categories = [\"Po\", \"Fa\",\"TA\",\"Gd\",\"Ex\"], ordered = True)).cat.codes"
   ]
  },
  {
   "cell_type": "code",
   "execution_count": null,
   "id": "75c845c3-a078-4aae-825f-3545ab6592cf",
   "metadata": {
    "tags": []
   },
   "outputs": [],
   "source": [
    "df_mvi[\"ExterQual\"].unique()"
   ]
  },
  {
   "cell_type": "code",
   "execution_count": null,
   "id": "14d9538f-6693-4d4a-98bc-645adfd1b78d",
   "metadata": {
    "tags": []
   },
   "outputs": [],
   "source": [
    "df_mvi[\"BsmtExposure\"] =df_mvi[\"BsmtExposure\"] .astype(CategoricalDtype(categories = [\"No\", \"NA\",\"Mn\",\"Av\",\"Gd\"], ordered = True)).cat.codes\n",
    "df_mvi[\"BsmtExposure\"]"
   ]
  },
  {
   "cell_type": "code",
   "execution_count": null,
   "id": "05e0ef2d-cf23-436c-ae8d-4086449b9f5e",
   "metadata": {
    "tags": []
   },
   "outputs": [],
   "source": [
    "df_mvi[\"BsmtExposure\"].value_counts()"
   ]
  },
  {
   "cell_type": "code",
   "execution_count": null,
   "id": "34597b10-cd1b-4d46-9253-c30cd3978d18",
   "metadata": {
    "tags": []
   },
   "outputs": [],
   "source": [
    "df_mvi[\"Utilities\"] =df_mvi[\"Utilities\"] .astype(CategoricalDtype(categories = [\"ELO\", \"NoSeWa\",\"NoSewr\",\"ALLPub\"], ordered = True)).cat.codes\n",
    "df_mvi[\"BsmtQual\"] =df_mvi[\"BsmtQual\"] .astype(CategoricalDtype(categories = [\"NA\", \"Po\",\"Fa\",\"TA\",\"Gd\",\"Ex\"], ordered = True)).cat.codes\n",
    "df_mvi[\"BsmtCond\"] =df_mvi[\"BsmtCond\"] .astype(CategoricalDtype(categories = [\"NA\", \"Po\",\"Fa\",\"TA\",\"Gd\",\"Ex\"], ordered = True)).cat.codes\n",
    "df_mvi[\"BsmtFinType1\"] =df_mvi[\"BsmtFinType1\"] .astype(CategoricalDtype(categories = [\"NA\", \"Unf\",\"LwQ\",\"Rec\",\"BLQ\",\"ALQ\",\"GLQ\"], ordered = True)).cat.codes\n",
    "df_mvi[\"BsmtFinType2\"] =df_mvi[\"BsmtFinType2\"] .astype(CategoricalDtype(categories = [\"NA\", \"Unf\",\"LwQ\",\"Rec\",\"BLQ\",\"ALQ\",\"GLQ\"], ordered = True)).cat.codes\n",
    "df_mvi[\"KitchenQual\"] =df_mvi[\"KitchenQual\"] .astype(CategoricalDtype(categories = [\"Po\", \"Fa\",\"TA\",\"Gd\",\"Ex\"], ordered = True)).cat.codes\n",
    "df_mvi[\"Functional\"] =df_mvi[\"Functional\"] .astype(CategoricalDtype(categories = [\"Sal\", \"Sev\",\"Maj2\",\"Maj1\",\"Mod\",\"Min2\",\"Min1\",\"Typ\"], ordered = True)).cat.codes\n",
    "df_mvi[\"FireplaceQu\"] =df_mvi[\"FireplaceQu\"] .astype(CategoricalDtype(categories = [\"NA\", \"Po\",\"Fa\",\"TA\",\"Gd\",\"Ex\"], ordered = True)).cat.codes\n",
    "df_mvi[\"GarageFinish\"] =df_mvi[\"GarageFinish\"] .astype(CategoricalDtype(categories = [ \"NA\",\"Unf\",\"RFn\",\"Fin\"], ordered = True)).cat.codes\n",
    "df_mvi[\"GarageQual\"] =df_mvi[\"GarageQual\"] .astype(CategoricalDtype(categories = [\"NA\", \"Po\",\"Fa\",\"TA\",\"Gd\",\"Ex\"], ordered = True)).cat.codes\n",
    "df_mvi[\"GarageCond\"] =df_mvi[\"GarageCond\"] .astype(CategoricalDtype(categories = [\"NA\", \"Po\",\"Fa\",\"TA\",\"Gd\",\"Ex\"], ordered = True)).cat.codes\n",
    "df_mvi[\"PoolQC\"] =df_mvi[\"PoolQC\"] .astype(CategoricalDtype(categories = [\"NA\",\"Fa\",\"TA\",\"Gd\",\"Ex\"], ordered = True)).cat.codes\n",
    "df_mvi[\"ExterCond\"] =df_mvi[\"ExterCond\"] .astype(CategoricalDtype(categories = [\"Po\",\"Fa\",\"TA\",\"Gd\",\"Ex\"], ordered = True)).cat.codes\n",
    "df_mvi[\"HeatingQC\"] =df_mvi[\"HeatingQC\"] .astype(CategoricalDtype(categories = [\"Po\",\"Fa\",\"TA\",\"Gd\",\"Ex\"], ordered = True)).cat.codes\n",
    "df_mvi[\"PavedDrive\"] =df_mvi[\"PavedDrive\"] .astype(CategoricalDtype(categories = [\"N\", \"P\",\"Y\"], ordered = True)).cat.codes"
   ]
  },
  {
   "cell_type": "code",
   "execution_count": null,
   "id": "5c2cd806-78d1-4236-8220-6c7375f2bb91",
   "metadata": {
    "tags": []
   },
   "outputs": [],
   "source": [
    "df_mvi[\"ExterCond\"].value_counts()"
   ]
  },
  {
   "cell_type": "code",
   "execution_count": null,
   "id": "93ef1674-defe-4eaa-b0bc-5a5d16b8569d",
   "metadata": {
    "tags": []
   },
   "outputs": [],
   "source": [
    "df_mvi.info()"
   ]
  },
  {
   "cell_type": "markdown",
   "id": "d14603ed-af6f-4875-ba4d-d20e944fa52b",
   "metadata": {},
   "source": [
    "# one hot encoding for nominal categorical data"
   ]
  },
  {
   "cell_type": "code",
   "execution_count": null,
   "id": "c690ab56-38c2-4c30-9d36-e3500cadbcd2",
   "metadata": {
    "tags": []
   },
   "outputs": [],
   "source": [
    "df_encod = df_mvi.copy()\n",
    "object_features = df_encod.select_dtypes(include =\"object\").columns.tolist()\n",
    "print(\"Total object data types features :\", len(object_features))\n",
    "print(\"Features: \\n \", object_features)"
   ]
  },
  {
   "cell_type": "code",
   "execution_count": null,
   "id": "3d9aaf82-e058-45ca-b15e-fdaa90585c64",
   "metadata": {
    "tags": []
   },
   "outputs": [],
   "source": [
    "df_encod[object_features].head(2)"
   ]
  },
  {
   "cell_type": "code",
   "execution_count": null,
   "id": "a01d73b7-8478-4721-b81c-11fbc6b9ed6f",
   "metadata": {
    "tags": []
   },
   "outputs": [],
   "source": [
    "print(\"shape of DF before encoding :\",df_encod.shape)\n",
    "df_encod = pd.get_dummies(df_encod,\n",
    "               columns= object_features,\n",
    "               prefix = object_features,\n",
    "               drop_first = True)\n",
    "print(\"shape of DF after encoding :\",df_encod.shape)"
   ]
  },
  {
   "cell_type": "code",
   "execution_count": null,
   "id": "3e04e77b-c05d-447c-8947-6d42acd29e22",
   "metadata": {
    "tags": []
   },
   "outputs": [],
   "source": [
    "df_encod.select_dtypes(include = \"object\").columns.tolist()"
   ]
  },
  {
   "cell_type": "markdown",
   "id": "8123f151-9a94-48b6-88fb-64c80b3dd4e4",
   "metadata": {},
   "source": [
    "# split data for traning and testing"
   ]
  },
  {
   "cell_type": "code",
   "execution_count": null,
   "id": "f3021feb-5be2-4685-9b2b-1efd979905a2",
   "metadata": {
    "tags": []
   },
   "outputs": [],
   "source": [
    "df_encod.shape"
   ]
  },
  {
   "cell_type": "code",
   "execution_count": null,
   "id": "12aa16ae-df74-4ab5-94fe-23141c831452",
   "metadata": {
    "tags": []
   },
   "outputs": [],
   "source": [
    "len_train = df_train.shape[0] \n",
    "len_train"
   ]
  },
  {
   "cell_type": "code",
   "execution_count": null,
   "id": "d2f5b67e-9da9-4f8e-ad91-3aaec2dbc6da",
   "metadata": {
    "tags": []
   },
   "outputs": [],
   "source": [
    "x_train = df_encod[:len_train].drop(\"SalePrice\", axis=1)\n",
    "y_train = df_encod[\"SalePrice\"][:len_train]\n",
    "x_test = df_encod[len_train:].drop(\"SalePrice\", axis=1)\n",
    "print(\" shape of x_train data : \", x_train.shape)\n",
    "print(\" shape of y_train data : \", y_train.shape)\n",
    "print(\" shape of x_test data : \", x_test.shape)"
   ]
  },
  {
   "cell_type": "markdown",
   "id": "96a6e401-d983-4a89-aa14-10a622142d21",
   "metadata": {
    "tags": []
   },
   "source": [
    " # feature scaling "
   ]
  },
  {
   "cell_type": "code",
   "execution_count": null,
   "id": "ef79c157-9606-49f9-94d8-ee2ff2f88907",
   "metadata": {
    "tags": []
   },
   "outputs": [],
   "source": [
    "sc = StandardScaler()\n",
    "sc.fit(x_train)\n",
    "## formula z = (x-u)/s\n",
    "x_train = sc.transform(x_train)\n",
    "x_test = sc.transform(x_test)"
   ]
  },
  {
   "cell_type": "code",
   "execution_count": null,
   "id": "73c81d09-ae5e-4c3f-968a-80600a54231a",
   "metadata": {
    "tags": []
   },
   "outputs": [],
   "source": [
    "x_train[:3, :]"
   ]
  },
  {
   "cell_type": "code",
   "execution_count": null,
   "id": "0fddd50f-2301-4e34-8820-9b57ecb37e7d",
   "metadata": {
    "tags": []
   },
   "outputs": [],
   "source": [
    "x_test[:3, :]"
   ]
  },
  {
   "cell_type": "code",
   "execution_count": null,
   "id": "1d6c4932-480c-4708-8ba5-d9498985e0ee",
   "metadata": {
    "tags": []
   },
   "outputs": [],
   "source": [
    "sc.mean_.shape"
   ]
  },
  {
   "cell_type": "markdown",
   "id": "29ce1b14-b335-493d-a75e-2d91851ba8c1",
   "metadata": {},
   "source": [
    "# Train ml model"
   ]
  },
  {
   "cell_type": "code",
   "execution_count": null,
   "id": "3f28a17a-b036-4aac-8985-bb5279046c25",
   "metadata": {
    "tags": []
   },
   "outputs": [],
   "source": [
    "from sklearn.linear_model import LinearRegression\n",
    "from sklearn.svm import SVR\n",
    "from sklearn.neighbors import KNeighborsRegressor\n",
    "from sklearn.tree import DecisionTreeRegressor\n",
    "from sklearn.ensemble import RandomForestRegressor\n"
   ]
  },
  {
   "cell_type": "code",
   "execution_count": null,
   "id": "21b86556-7713-4bb4-baba-9ccd039c8cb2",
   "metadata": {
    "tags": []
   },
   "outputs": [],
   "source": [
    "svr = SVR()\n",
    "lr = LinearRegression()\n",
    "knr = KNeighborsRegressor()\n",
    "dt = DecisionTreeRegressor()\n",
    "rfr = RandomForestRegressor()\n"
   ]
  },
  {
   "cell_type": "code",
   "execution_count": null,
   "id": "27cd7e26-5c60-48c9-ac8c-6165b8b2234c",
   "metadata": {},
   "outputs": [],
   "source": [
    "models = {\"a\":[\"LinearRegression\" ,lr],\n",
    "          \"b\":[\"SVR\" ,svr],\n",
    "          \"c\":[\"KNeighborsRegressor\" ,knr],\n",
    "          \"d\":[\" DecisionTreeRegressor\" ,dt],\n",
    "          \"e\":[\"RandomForestRegressor\" ,rfr]\n",
    "          \n",
    "         }\n"
   ]
  },
  {
   "cell_type": "code",
   "execution_count": null,
   "id": "c0f9da3b-db44-4b9c-9e05-dad40a53be04",
   "metadata": {
    "tags": []
   },
   "outputs": [],
   "source": [
    "from sklearn.model_selection import KFold, cross_val_score\n",
    "from sklearn.metrics import make_scorer, r2_score\n",
    "\n",
    "def test_model(model, x_train = x_train, y_train = y_train):\n",
    "               cv = KFold(n_splits = 7, shuffle = True, random_state = 45)\n",
    "               r2 = make_scorer(r2_score)\n",
    "               r2_val_score = cross_val_score(model, x_train,y_train, cv=cv, scoring=r2)\n",
    "               score = [r2_val_score.mean()]\n",
    "               return score"
   ]
  },
  {
   "cell_type": "code",
   "execution_count": null,
   "id": "bce4c863-55fc-4c86-9bcd-107d9d4d0cbc",
   "metadata": {
    "tags": []
   },
   "outputs": [],
   "source": [
    "models_score =[]\n",
    "for model in models:\n",
    "    print(\"Traning model :\", models[model][0])\n",
    "    score = test_model(models[model][1],x_train, y_train)\n",
    "    print(\"Score of model : \", score)\n",
    "    \n",
    "    models_score.append([models[model][0],score[0]])"
   ]
  },
  {
   "cell_type": "code",
   "execution_count": null,
   "id": "80825cfc-182b-44f9-85b2-41652f0b6c17",
   "metadata": {},
   "outputs": [],
   "source": []
  }
 ],
 "metadata": {
  "kernelspec": {
   "display_name": "Python 3 (ipykernel)",
   "language": "python",
   "name": "python3"
  },
  "language_info": {
   "codemirror_mode": {
    "name": "ipython",
    "version": 3
   },
   "file_extension": ".py",
   "mimetype": "text/x-python",
   "name": "python",
   "nbconvert_exporter": "python",
   "pygments_lexer": "ipython3",
   "version": "3.11.7"
  }
 },
 "nbformat": 4,
 "nbformat_minor": 5
}
